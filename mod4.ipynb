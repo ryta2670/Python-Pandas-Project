{
 "cells": [
  {
   "cell_type": "markdown",
   "metadata": {},
   "source": [
    "# INFO 3401 – Module Assignment 4\n",
    "\n",
    "[Brian C. Keegan, Ph.D.](http://brianckeegan.com/)  \n",
    "[Assistant Professor, Department of Information Science](https://www.colorado.edu/cmci/people/information-science/brian-c-keegan)  \n",
    "University of Colorado Boulder  \n",
    "\n",
    "Copyright and distributed under an [MIT License](https://opensource.org/licenses/MIT).\n",
    "\n",
    "## Learning Objectives\n",
    "This is the sole component for Module Assignment 4: there are no sub-assignments. This assignment is due Wednesday, October 28 by 11:59pm on Canvas. Please submit as an HTML file: File > Download as > HTML (.html).\n"
   ]
  },
  {
   "cell_type": "code",
   "execution_count": 33,
   "metadata": {},
   "outputs": [],
   "source": [
    "# Our usual libraries for working with data\n",
    "import pandas as pd\n",
    "import numpy as np\n",
    "\n",
    "pd.options.display.max_columns = 100\n",
    "# pd.options.display.max_rows = 100\n",
    "\n",
    "# Our usual libraries for visualizing data\n",
    "%matplotlib inline\n",
    "import matplotlib.pyplot as plt\n",
    "import matplotlib.colors as colors\n",
    "import seaborn as sb\n",
    "\n",
    "\n",
    "# Spatial libaries\n",
    "import geopandas as gpd\n",
    "import geoplot, contextily"
   ]
  },
  {
   "cell_type": "markdown",
   "metadata": {},
   "source": [
    "## Read in data\n",
    "\n",
    "### Sales data\n",
    "Read in the \"colorado_monthly_cannabis_sales.csv\" file as `sales_df`."
   ]
  },
  {
   "cell_type": "code",
   "execution_count": 124,
   "metadata": {},
   "outputs": [],
   "source": [
    "sales_df = pd.read_csv('colorado_monthly_cannabis_sales.csv')"
   ]
  },
  {
   "cell_type": "markdown",
   "metadata": {},
   "source": [
    "Print out the number of rows and show the tail of `sales_df`."
   ]
  },
  {
   "cell_type": "code",
   "execution_count": 20,
   "metadata": {},
   "outputs": [
    {
     "data": {
      "text/plain": [
       "5398"
      ]
     },
     "execution_count": 20,
     "metadata": {},
     "output_type": "execute_result"
    }
   ],
   "source": [
    "sales_df.shape[0]\n"
   ]
  },
  {
   "cell_type": "code",
   "execution_count": 75,
   "metadata": {},
   "outputs": [
    {
     "data": {
      "text/html": [
       "<div>\n",
       "<style scoped>\n",
       "    .dataframe tbody tr th:only-of-type {\n",
       "        vertical-align: middle;\n",
       "    }\n",
       "\n",
       "    .dataframe tbody tr th {\n",
       "        vertical-align: top;\n",
       "    }\n",
       "\n",
       "    .dataframe thead th {\n",
       "        text-align: right;\n",
       "    }\n",
       "</style>\n",
       "<table border=\"1\" class=\"dataframe\">\n",
       "  <thead>\n",
       "    <tr style=\"text-align: right;\">\n",
       "      <th></th>\n",
       "      <th>Time</th>\n",
       "      <th>County</th>\n",
       "      <th>Sales</th>\n",
       "      <th>Type</th>\n",
       "      <th>date</th>\n",
       "    </tr>\n",
       "  </thead>\n",
       "  <tbody>\n",
       "    <tr>\n",
       "      <th>5393</th>\n",
       "      <td>2020-08</td>\n",
       "      <td>Huerfano</td>\n",
       "      <td>506634.0</td>\n",
       "      <td>Recreational</td>\n",
       "      <td>2020-08-01</td>\n",
       "    </tr>\n",
       "    <tr>\n",
       "      <th>5394</th>\n",
       "      <td>2020-08</td>\n",
       "      <td>Jefferson</td>\n",
       "      <td>5805803.0</td>\n",
       "      <td>Recreational</td>\n",
       "      <td>2020-08-01</td>\n",
       "    </tr>\n",
       "    <tr>\n",
       "      <th>5395</th>\n",
       "      <td>2020-08</td>\n",
       "      <td>Lake</td>\n",
       "      <td>449116.0</td>\n",
       "      <td>Recreational</td>\n",
       "      <td>2020-08-01</td>\n",
       "    </tr>\n",
       "    <tr>\n",
       "      <th>5396</th>\n",
       "      <td>2020-08</td>\n",
       "      <td>Garfield</td>\n",
       "      <td>2538125.0</td>\n",
       "      <td>Recreational</td>\n",
       "      <td>2020-08-01</td>\n",
       "    </tr>\n",
       "    <tr>\n",
       "      <th>5397</th>\n",
       "      <td>2020-08</td>\n",
       "      <td>Bent</td>\n",
       "      <td>NaN</td>\n",
       "      <td>Recreational</td>\n",
       "      <td>2020-08-01</td>\n",
       "    </tr>\n",
       "  </tbody>\n",
       "</table>\n",
       "</div>"
      ],
      "text/plain": [
       "         Time     County      Sales          Type       date\n",
       "5393  2020-08   Huerfano   506634.0  Recreational 2020-08-01\n",
       "5394  2020-08  Jefferson  5805803.0  Recreational 2020-08-01\n",
       "5395  2020-08       Lake   449116.0  Recreational 2020-08-01\n",
       "5396  2020-08   Garfield  2538125.0  Recreational 2020-08-01\n",
       "5397  2020-08       Bent        NaN  Recreational 2020-08-01"
      ]
     },
     "execution_count": 75,
     "metadata": {},
     "output_type": "execute_result"
    }
   ],
   "source": [
    "sales_df.tail()"
   ]
  },
  {
   "cell_type": "markdown",
   "metadata": {},
   "source": [
    "### Crime data\n",
    "\n",
    "Read in the \"co_county_crime.csv\" file as `crime_df`."
   ]
  },
  {
   "cell_type": "code",
   "execution_count": 23,
   "metadata": {},
   "outputs": [],
   "source": [
    "crime_df = pd.read_csv(\"co_county_crime.csv\")"
   ]
  },
  {
   "cell_type": "markdown",
   "metadata": {},
   "source": [
    "Print out the number of rows and show the tail of `crime_df`."
   ]
  },
  {
   "cell_type": "code",
   "execution_count": 25,
   "metadata": {},
   "outputs": [
    {
     "data": {
      "text/plain": [
       "10668"
      ]
     },
     "execution_count": 25,
     "metadata": {},
     "output_type": "execute_result"
    }
   ],
   "source": [
    "crime_df.shape[0]"
   ]
  },
  {
   "cell_type": "code",
   "execution_count": 24,
   "metadata": {},
   "outputs": [
    {
     "data": {
      "text/html": [
       "<div>\n",
       "<style scoped>\n",
       "    .dataframe tbody tr th:only-of-type {\n",
       "        vertical-align: middle;\n",
       "    }\n",
       "\n",
       "    .dataframe tbody tr th {\n",
       "        vertical-align: top;\n",
       "    }\n",
       "\n",
       "    .dataframe thead th {\n",
       "        text-align: right;\n",
       "    }\n",
       "</style>\n",
       "<table border=\"1\" class=\"dataframe\">\n",
       "  <thead>\n",
       "    <tr style=\"text-align: right;\">\n",
       "      <th></th>\n",
       "      <th>Time</th>\n",
       "      <th>County</th>\n",
       "      <th>Type</th>\n",
       "      <th>Arrests</th>\n",
       "    </tr>\n",
       "  </thead>\n",
       "  <tbody>\n",
       "    <tr>\n",
       "      <th>10663</th>\n",
       "      <td>2019-12</td>\n",
       "      <td>Washington</td>\n",
       "      <td>Narcotics</td>\n",
       "      <td>0.0</td>\n",
       "    </tr>\n",
       "    <tr>\n",
       "      <th>10664</th>\n",
       "      <td>2019-12</td>\n",
       "      <td>Weld</td>\n",
       "      <td>DUI</td>\n",
       "      <td>65.0</td>\n",
       "    </tr>\n",
       "    <tr>\n",
       "      <th>10665</th>\n",
       "      <td>2019-12</td>\n",
       "      <td>Weld</td>\n",
       "      <td>Narcotics</td>\n",
       "      <td>71.0</td>\n",
       "    </tr>\n",
       "    <tr>\n",
       "      <th>10666</th>\n",
       "      <td>2019-12</td>\n",
       "      <td>Yuma</td>\n",
       "      <td>DUI</td>\n",
       "      <td>0.0</td>\n",
       "    </tr>\n",
       "    <tr>\n",
       "      <th>10667</th>\n",
       "      <td>2019-12</td>\n",
       "      <td>Yuma</td>\n",
       "      <td>Narcotics</td>\n",
       "      <td>0.0</td>\n",
       "    </tr>\n",
       "  </tbody>\n",
       "</table>\n",
       "</div>"
      ],
      "text/plain": [
       "          Time      County       Type  Arrests\n",
       "10663  2019-12  Washington  Narcotics      0.0\n",
       "10664  2019-12        Weld        DUI     65.0\n",
       "10665  2019-12        Weld  Narcotics     71.0\n",
       "10666  2019-12        Yuma        DUI      0.0\n",
       "10667  2019-12        Yuma  Narcotics      0.0"
      ]
     },
     "execution_count": 24,
     "metadata": {},
     "output_type": "execute_result"
    }
   ],
   "source": [
    "\n",
    "crime_df.tail()"
   ]
  },
  {
   "cell_type": "markdown",
   "metadata": {},
   "source": [
    "### County shapefile\n",
    "\n",
    "Read in the \"co_counties\" shapefiles as `co_counties_gdf`."
   ]
  },
  {
   "cell_type": "code",
   "execution_count": 68,
   "metadata": {},
   "outputs": [],
   "source": [
    "co_counties_gdf = gpd.read_file('co_counties/co_counties.shp')\n",
    "#make sure it is in downloads folder"
   ]
  },
  {
   "cell_type": "markdown",
   "metadata": {},
   "source": [
    "Show the CRS."
   ]
  },
  {
   "cell_type": "code",
   "execution_count": 47,
   "metadata": {},
   "outputs": [
    {
     "data": {
      "text/plain": [
       "<Geographic 2D CRS: EPSG:4326>\n",
       "Name: WGS 84\n",
       "Axis Info [ellipsoidal]:\n",
       "- Lat[north]: Geodetic latitude (degree)\n",
       "- Lon[east]: Geodetic longitude (degree)\n",
       "Area of Use:\n",
       "- name: World\n",
       "- bounds: (-180.0, -90.0, 180.0, 90.0)\n",
       "Datum: World Geodetic System 1984\n",
       "- Ellipsoid: WGS 84\n",
       "- Prime Meridian: Greenwich"
      ]
     },
     "execution_count": 47,
     "metadata": {},
     "output_type": "execute_result"
    }
   ],
   "source": [
    "co_counties_gdf.crs"
   ]
  },
  {
   "cell_type": "markdown",
   "metadata": {},
   "source": [
    "Print out the number of rows and show the tail of `co_counties_gdf`."
   ]
  },
  {
   "cell_type": "code",
   "execution_count": 67,
   "metadata": {},
   "outputs": [
    {
     "data": {
      "text/plain": [
       "64"
      ]
     },
     "execution_count": 67,
     "metadata": {},
     "output_type": "execute_result"
    }
   ],
   "source": [
    "co_counties_gdf.shape[0]\n"
   ]
  },
  {
   "cell_type": "code",
   "execution_count": 74,
   "metadata": {},
   "outputs": [
    {
     "data": {
      "text/html": [
       "<div>\n",
       "<style scoped>\n",
       "    .dataframe tbody tr th:only-of-type {\n",
       "        vertical-align: middle;\n",
       "    }\n",
       "\n",
       "    .dataframe tbody tr th {\n",
       "        vertical-align: top;\n",
       "    }\n",
       "\n",
       "    .dataframe thead th {\n",
       "        text-align: right;\n",
       "    }\n",
       "</style>\n",
       "<table border=\"1\" class=\"dataframe\">\n",
       "  <thead>\n",
       "    <tr style=\"text-align: right;\">\n",
       "      <th></th>\n",
       "      <th>co_fips</th>\n",
       "      <th>county</th>\n",
       "      <th>househo_20</th>\n",
       "      <th>pop_2010</th>\n",
       "      <th>shape_st_1</th>\n",
       "      <th>shape_st_2</th>\n",
       "      <th>shape_star</th>\n",
       "      <th>shape_stle</th>\n",
       "      <th>geometry</th>\n",
       "    </tr>\n",
       "  </thead>\n",
       "  <tbody>\n",
       "    <tr>\n",
       "      <th>59</th>\n",
       "      <td>101.0</td>\n",
       "      <td>Pueblo</td>\n",
       "      <td>63148.0</td>\n",
       "      <td>159063.0</td>\n",
       "      <td>6.206416e+09</td>\n",
       "      <td>334853.177401</td>\n",
       "      <td>0.0</td>\n",
       "      <td>0.0</td>\n",
       "      <td>POLYGON ((-104.05410 38.52218, -104.05436 38.5...</td>\n",
       "    </tr>\n",
       "    <tr>\n",
       "      <th>60</th>\n",
       "      <td>103.0</td>\n",
       "      <td>Rio Blanco</td>\n",
       "      <td>2626.0</td>\n",
       "      <td>6666.0</td>\n",
       "      <td>8.356260e+09</td>\n",
       "      <td>472176.056913</td>\n",
       "      <td>0.0</td>\n",
       "      <td>0.0</td>\n",
       "      <td>POLYGON ((-107.80151 40.22250, -107.76365 40.2...</td>\n",
       "    </tr>\n",
       "    <tr>\n",
       "      <th>61</th>\n",
       "      <td>121.0</td>\n",
       "      <td>Washington</td>\n",
       "      <td>1980.0</td>\n",
       "      <td>4814.0</td>\n",
       "      <td>6.535833e+09</td>\n",
       "      <td>351598.108603</td>\n",
       "      <td>0.0</td>\n",
       "      <td>0.0</td>\n",
       "      <td>POLYGON ((-102.77997 40.43842, -102.78005 40.4...</td>\n",
       "    </tr>\n",
       "    <tr>\n",
       "      <th>62</th>\n",
       "      <td>123.0</td>\n",
       "      <td>Weld</td>\n",
       "      <td>89849.0</td>\n",
       "      <td>252825.0</td>\n",
       "      <td>1.039621e+10</td>\n",
       "      <td>486242.951314</td>\n",
       "      <td>0.0</td>\n",
       "      <td>0.0</td>\n",
       "      <td>MULTIPOLYGON (((-103.57413 40.99985, -103.5736...</td>\n",
       "    </tr>\n",
       "    <tr>\n",
       "      <th>63</th>\n",
       "      <td>125.0</td>\n",
       "      <td>Yuma</td>\n",
       "      <td>3947.0</td>\n",
       "      <td>10043.0</td>\n",
       "      <td>6.137023e+09</td>\n",
       "      <td>321423.270613</td>\n",
       "      <td>0.0</td>\n",
       "      <td>0.0</td>\n",
       "      <td>POLYGON ((-102.05155 40.43985, -102.05136 40.4...</td>\n",
       "    </tr>\n",
       "  </tbody>\n",
       "</table>\n",
       "</div>"
      ],
      "text/plain": [
       "    co_fips      county  househo_20  pop_2010    shape_st_1     shape_st_2  \\\n",
       "59    101.0      Pueblo     63148.0  159063.0  6.206416e+09  334853.177401   \n",
       "60    103.0  Rio Blanco      2626.0    6666.0  8.356260e+09  472176.056913   \n",
       "61    121.0  Washington      1980.0    4814.0  6.535833e+09  351598.108603   \n",
       "62    123.0        Weld     89849.0  252825.0  1.039621e+10  486242.951314   \n",
       "63    125.0        Yuma      3947.0   10043.0  6.137023e+09  321423.270613   \n",
       "\n",
       "    shape_star  shape_stle                                           geometry  \n",
       "59         0.0         0.0  POLYGON ((-104.05410 38.52218, -104.05436 38.5...  \n",
       "60         0.0         0.0  POLYGON ((-107.80151 40.22250, -107.76365 40.2...  \n",
       "61         0.0         0.0  POLYGON ((-102.77997 40.43842, -102.78005 40.4...  \n",
       "62         0.0         0.0  MULTIPOLYGON (((-103.57413 40.99985, -103.5736...  \n",
       "63         0.0         0.0  POLYGON ((-102.05155 40.43985, -102.05136 40.4...  "
      ]
     },
     "execution_count": 74,
     "metadata": {},
     "output_type": "execute_result"
    }
   ],
   "source": [
    "co_counties_gdf.tail()"
   ]
  },
  {
   "cell_type": "markdown",
   "metadata": {},
   "source": [
    "## Feature engineering\n",
    "\n",
    "### Sales data\n",
    "In `sales_df`, cast the values in the \"Month\" column from strings to `pd.Timestamp` or `pd.Period` objects using an appropriate pandas function."
   ]
  },
  {
   "cell_type": "code",
   "execution_count": 125,
   "metadata": {},
   "outputs": [],
   "source": [
    "sales_df['date'] = pd.to_datetime(sales_df['Time'])"
   ]
  },
  {
   "cell_type": "code",
   "execution_count": 126,
   "metadata": {},
   "outputs": [
    {
     "data": {
      "text/plain": [
       "0      2014-01-01\n",
       "1      2014-01-01\n",
       "2      2014-01-01\n",
       "3      2014-01-01\n",
       "4      2014-01-01\n",
       "          ...    \n",
       "5393   2020-08-01\n",
       "5394   2020-08-01\n",
       "5395   2020-08-01\n",
       "5396   2020-08-01\n",
       "5397   2020-08-01\n",
       "Name: date, Length: 5398, dtype: datetime64[ns]"
      ]
     },
     "execution_count": 126,
     "metadata": {},
     "output_type": "execute_result"
    }
   ],
   "source": [
    "sales_df['date']\n"
   ]
  },
  {
   "cell_type": "markdown",
   "metadata": {},
   "source": [
    "NaNs are present in the \"Sales\" column if there are 3 or fewer dispensaries in a county in a given month to protect their confidentiality: \n",
    "\n",
    "> \"Per §39-21-113(4), C.R.S., data derived from taxpayer returns is aggregated in order to protect the confidentiality of individual taxpayers. It is the Department’s practice to release aggregated data only when there are at least three taxpayers in a given category and none of them represents more than 80% of the total.\n",
    "\n",
    "This is a good case for keeping rather than dropping NaNs: because a county doesn't report sales doesn't mean that it's not a legal county with dispensaries and sales."
   ]
  },
  {
   "cell_type": "markdown",
   "metadata": {},
   "source": [
    "### Crime data\n",
    "\n",
    "In `crime_df`, cast the values in the \"Month\" column from strings to `pd.Timestamp` or `pd.Period` objects using an appropriate pandas function."
   ]
  },
  {
   "cell_type": "code",
   "execution_count": 56,
   "metadata": {},
   "outputs": [],
   "source": [
    "crime_df['date'] = pd.to_datetime(crime_df['Time'])"
   ]
  },
  {
   "cell_type": "markdown",
   "metadata": {},
   "source": [
    "### Counties data\n",
    "\n",
    "Convert the \"county\" column in `co_counties_gdf` to title-case ([hint](https://pandas.pydata.org/pandas-docs/stable/reference/api/pandas.Series.str.title.html)) and show the head after the change."
   ]
  },
  {
   "cell_type": "code",
   "execution_count": 69,
   "metadata": {},
   "outputs": [],
   "source": [
    "co_counties_gdf['county'] = co_counties_gdf['county'].str.title()\n"
   ]
  },
  {
   "cell_type": "code",
   "execution_count": 70,
   "metadata": {},
   "outputs": [
    {
     "data": {
      "text/plain": [
       "0        Adams\n",
       "1      Alamosa\n",
       "2     Arapahoe\n",
       "3    Archuleta\n",
       "4         Bent\n",
       "Name: county, dtype: object"
      ]
     },
     "execution_count": 70,
     "metadata": {},
     "output_type": "execute_result"
    }
   ],
   "source": [
    "co_counties_gdf['county'].head()"
   ]
  },
  {
   "cell_type": "markdown",
   "metadata": {},
   "source": [
    "## Exploratory analysis\n",
    "\n",
    "### Sales data\n",
    "How many times does each county appear in `sales_df`?"
   ]
  },
  {
   "cell_type": "code",
   "execution_count": 127,
   "metadata": {},
   "outputs": [
    {
     "data": {
      "text/plain": [
       "Adams          160\n",
       "Alamosa         80\n",
       "Arapahoe       151\n",
       "Archuleta      129\n",
       "Bent            11\n",
       "Boulder        159\n",
       "Chaffee        153\n",
       "Clear Creek    155\n",
       "Conejos         62\n",
       "Costilla       116\n",
       "Crowley         16\n",
       "Delta           12\n",
       "Denver         160\n",
       "Eagle          156\n",
       "El Paso        154\n",
       "Fremont         80\n",
       "Garfield       160\n",
       "Gilpin         136\n",
       "Grand          150\n",
       "Gunnison       129\n",
       "Huerfano        63\n",
       "Jefferson      160\n",
       "La Plata       152\n",
       "Lake            80\n",
       "Larimer        157\n",
       "Las Animas     139\n",
       "Mesa           148\n",
       "Moffat         109\n",
       "Montezuma      149\n",
       "Montrose        95\n",
       "Morgan         144\n",
       "Otero           70\n",
       "Ouray          135\n",
       "Park           160\n",
       "Pitkin         158\n",
       "Pueblo         160\n",
       "Routt          160\n",
       "Saguache        84\n",
       "San Juan        68\n",
       "San Miguel     160\n",
       "Sedgwick       153\n",
       "Summit         160\n",
       "Teller          45\n",
       "Weld           160\n",
       "Name: County, dtype: int64"
      ]
     },
     "execution_count": 127,
     "metadata": {},
     "output_type": "execute_result"
    }
   ],
   "source": [
    "sales_df['County'].value_counts().sort_index()"
   ]
  },
  {
   "cell_type": "markdown",
   "metadata": {},
   "source": [
    "Make a histogram of the \"Sales\" values in `sales_df`. This might be highly-skewed, so experiment with using log-scaled bins and x-axis: try passing `np.logspace(3,8,25)` to the \"bins\" parameter and set the xscale to \"log\" ([hint](https://matplotlib.org/3.2.1/api/_as_gen/matplotlib.axes.Axes.set_xscale.html)). Make sure to label your axes. Real extra credit if you can format the x-axis to have more interpretable ticks too ([hint](https://matplotlib.org/3.3.1/gallery/ticks_and_spines/tick-formatters.html))."
   ]
  },
  {
   "cell_type": "code",
   "execution_count": null,
   "metadata": {},
   "outputs": [],
   "source": []
  },
  {
   "cell_type": "code",
   "execution_count": 128,
   "metadata": {},
   "outputs": [
    {
     "data": {
      "image/png": "[encoded data removed]",
      "text/plain": [
       "<Figure size 432x288 with 1 Axes>"
      ]
     },
     "metadata": {
      "needs_background": "light"
     },
     "output_type": "display_data"
    }
   ],
   "source": [
    "#sales_df.hist(column = 'Sales', bins = np.logspace(3,8,25), xscale = 'log')\n",
    "\n",
    "sales_df['Sales'].hist(bins=np.logspace(3,8,25),grid=False)\n",
    "plt.xlabel(\"count\", fontsize=15)\n",
    "plt.ylabel(\"sales\",fontsize=15)\n",
    "plt.xscale('log')"
   ]
  },
  {
   "cell_type": "markdown",
   "metadata": {},
   "source": [
    "Interpret the histogram. What is the most common monthly sales value?"
   ]
  },
  {
   "cell_type": "markdown",
   "metadata": {},
   "source": [
    "The most common monthly sales value is the 480 value."
   ]
  },
  {
   "cell_type": "markdown",
   "metadata": {},
   "source": [
    "Reshape the data with \"Time\" in the index and \"Medical\" and \"Recreational\" as columns and the total number of sales as values. Save the resulting reshape as `monthly_sales_pivot`. You can do this with a pivot table or a groupby-aggregation. Show the tail of this reshaped DataFrame."
   ]
  },
  {
   "cell_type": "code",
   "execution_count": null,
   "metadata": {},
   "outputs": [],
   "source": []
  },
  {
   "cell_type": "code",
   "execution_count": 129,
   "metadata": {},
   "outputs": [],
   "source": [
    "monthly_sales_pivot = pd.pivot_table(sales_df, values=['Sales'], index=['Time'],\n",
    "                    columns=[\"Type\"], aggfunc= np.sum)"
   ]
  },
  {
   "cell_type": "code",
   "execution_count": 130,
   "metadata": {},
   "outputs": [
    {
     "data": {
      "text/html": [
       "<div>\n",
       "<style scoped>\n",
       "    .dataframe tbody tr th:only-of-type {\n",
       "        vertical-align: middle;\n",
       "    }\n",
       "\n",
       "    .dataframe tbody tr th {\n",
       "        vertical-align: top;\n",
       "    }\n",
       "\n",
       "    .dataframe thead tr th {\n",
       "        text-align: left;\n",
       "    }\n",
       "\n",
       "    .dataframe thead tr:last-of-type th {\n",
       "        text-align: right;\n",
       "    }\n",
       "</style>\n",
       "<table border=\"1\" class=\"dataframe\">\n",
       "  <thead>\n",
       "    <tr>\n",
       "      <th></th>\n",
       "      <th colspan=\"2\" halign=\"left\">Sales</th>\n",
       "    </tr>\n",
       "    <tr>\n",
       "      <th>Type</th>\n",
       "      <th>Medical</th>\n",
       "      <th>Recreational</th>\n",
       "    </tr>\n",
       "    <tr>\n",
       "      <th>Time</th>\n",
       "      <th></th>\n",
       "      <th></th>\n",
       "    </tr>\n",
       "  </thead>\n",
       "  <tbody>\n",
       "    <tr>\n",
       "      <th>2020-04</th>\n",
       "      <td>34996438.0</td>\n",
       "      <td>108687035.0</td>\n",
       "    </tr>\n",
       "    <tr>\n",
       "      <th>2020-05</th>\n",
       "      <td>41458783.0</td>\n",
       "      <td>144280917.0</td>\n",
       "    </tr>\n",
       "    <tr>\n",
       "      <th>2020-06</th>\n",
       "      <td>39628326.0</td>\n",
       "      <td>152754961.0</td>\n",
       "    </tr>\n",
       "    <tr>\n",
       "      <th>2020-07</th>\n",
       "      <td>41985544.0</td>\n",
       "      <td>176676875.0</td>\n",
       "    </tr>\n",
       "    <tr>\n",
       "      <th>2020-08</th>\n",
       "      <td>40904451.0</td>\n",
       "      <td>169071513.0</td>\n",
       "    </tr>\n",
       "  </tbody>\n",
       "</table>\n",
       "</div>"
      ],
      "text/plain": [
       "              Sales             \n",
       "Type        Medical Recreational\n",
       "Time                            \n",
       "2020-04  34996438.0  108687035.0\n",
       "2020-05  41458783.0  144280917.0\n",
       "2020-06  39628326.0  152754961.0\n",
       "2020-07  41985544.0  176676875.0\n",
       "2020-08  40904451.0  169071513.0"
      ]
     },
     "execution_count": 130,
     "metadata": {},
     "output_type": "execute_result"
    }
   ],
   "source": [
    "\n",
    "\n",
    "monthly_sales_pivot.tail()"
   ]
  },
  {
   "cell_type": "markdown",
   "metadata": {},
   "source": [
    "Make a lineplot of total medical and recreational cannabis sales by month using the DataFrame above. Label your axes and title. Real extra credit if you can format the y-axis to have more interpretable ticks too ([hint](https://matplotlib.org/3.1.0/gallery/ticks_and_spines/custom_ticker1.html))."
   ]
  },
  {
   "cell_type": "code",
   "execution_count": 131,
   "metadata": {},
   "outputs": [
    {
     "data": {
      "image/png": "[encoded data removed]",
      "text/plain": [
       "<Figure size 432x288 with 1 Axes>"
      ]
     },
     "metadata": {
      "needs_background": "light"
     },
     "output_type": "display_data"
    }
   ],
   "source": [
    "lines = monthly_sales_pivot.plot.line()"
   ]
  },
  {
   "cell_type": "markdown",
   "metadata": {},
   "source": [
    "Pick a county in Colorado and filter original sales DataFrame to only that county's values. Note that not all counties permit medical and/or recreational sales and thus may not be present in the data or they have changed their policies over time creating gaps. Make sure to pick a county with recreational sales. Reshape the data to include recreational and medical like we did above. Save the result as `county_monthly_sales_pivot`. Show the tail of this data."
   ]
  },
  {
   "cell_type": "code",
   "execution_count": 132,
   "metadata": {},
   "outputs": [
    {
     "data": {
      "text/html": [
       "<div>\n",
       "<style scoped>\n",
       "    .dataframe tbody tr th:only-of-type {\n",
       "        vertical-align: middle;\n",
       "    }\n",
       "\n",
       "    .dataframe tbody tr th {\n",
       "        vertical-align: top;\n",
       "    }\n",
       "\n",
       "    .dataframe thead tr th {\n",
       "        text-align: left;\n",
       "    }\n",
       "\n",
       "    .dataframe thead tr:last-of-type th {\n",
       "        text-align: right;\n",
       "    }\n",
       "</style>\n",
       "<table border=\"1\" class=\"dataframe\">\n",
       "  <thead>\n",
       "    <tr>\n",
       "      <th></th>\n",
       "      <th colspan=\"2\" halign=\"left\">Sales</th>\n",
       "    </tr>\n",
       "    <tr>\n",
       "      <th>Type</th>\n",
       "      <th>Medical</th>\n",
       "      <th>Recreational</th>\n",
       "    </tr>\n",
       "    <tr>\n",
       "      <th>Time</th>\n",
       "      <th></th>\n",
       "      <th></th>\n",
       "    </tr>\n",
       "  </thead>\n",
       "  <tbody>\n",
       "    <tr>\n",
       "      <th>2020-04</th>\n",
       "      <td>2.916370e+06</td>\n",
       "      <td>3.293547e+06</td>\n",
       "    </tr>\n",
       "    <tr>\n",
       "      <th>2020-05</th>\n",
       "      <td>3.454899e+06</td>\n",
       "      <td>4.372149e+06</td>\n",
       "    </tr>\n",
       "    <tr>\n",
       "      <th>2020-06</th>\n",
       "      <td>3.048333e+06</td>\n",
       "      <td>4.628938e+06</td>\n",
       "    </tr>\n",
       "    <tr>\n",
       "      <th>2020-07</th>\n",
       "      <td>3.498795e+06</td>\n",
       "      <td>5.196379e+06</td>\n",
       "    </tr>\n",
       "    <tr>\n",
       "      <th>2020-08</th>\n",
       "      <td>3.146496e+06</td>\n",
       "      <td>5.283485e+06</td>\n",
       "    </tr>\n",
       "  </tbody>\n",
       "</table>\n",
       "</div>"
      ],
      "text/plain": [
       "                Sales              \n",
       "Type          Medical  Recreational\n",
       "Time                               \n",
       "2020-04  2.916370e+06  3.293547e+06\n",
       "2020-05  3.454899e+06  4.372149e+06\n",
       "2020-06  3.048333e+06  4.628938e+06\n",
       "2020-07  3.498795e+06  5.196379e+06\n",
       "2020-08  3.146496e+06  5.283485e+06"
      ]
     },
     "execution_count": 132,
     "metadata": {},
     "output_type": "execute_result"
    }
   ],
   "source": [
    "sales_df.filter(like='Boulder')\n",
    "\n",
    "\n",
    "\n",
    "county_monthly_sales_pivot = pd.pivot_table(sales_df, values=['Sales'], index=['Time'],\n",
    "                    columns=[\"Type\"])\n",
    "\n",
    "county_monthly_sales_pivot.tail()"
   ]
  },
  {
   "cell_type": "markdown",
   "metadata": {},
   "source": [
    "Visualize the county-level data over time as a line plot like we did above."
   ]
  },
  {
   "cell_type": "code",
   "execution_count": 133,
   "metadata": {},
   "outputs": [
    {
     "data": {
      "image/png": "[encoded data removed]",
      "text/plain": [
       "<Figure size 432x288 with 1 Axes>"
      ]
     },
     "metadata": {
      "needs_background": "light"
     },
     "output_type": "display_data"
    }
   ],
   "source": [
    "lines2 = county_monthly_sales_pivot.plot.line()"
   ]
  },
  {
   "cell_type": "markdown",
   "metadata": {},
   "source": [
    "### Crime data\n",
    "\n",
    "How many times does each county appear in `crime_df`?"
   ]
  },
  {
   "cell_type": "code",
   "execution_count": 134,
   "metadata": {},
   "outputs": [
    {
     "data": {
      "text/plain": [
       "Adams         168\n",
       "Alamosa       168\n",
       "Arapahoe      168\n",
       "Archuleta     168\n",
       "Baca          168\n",
       "             ... \n",
       "Summit        168\n",
       "Teller        168\n",
       "Washington    168\n",
       "Weld          168\n",
       "Yuma          168\n",
       "Name: County, Length: 65, dtype: int64"
      ]
     },
     "execution_count": 134,
     "metadata": {},
     "output_type": "execute_result"
    }
   ],
   "source": [
    "crime_df['County'].value_counts().sort_index()"
   ]
  },
  {
   "cell_type": "markdown",
   "metadata": {},
   "source": [
    "Reshape the data with \"Time\" in the index and \"DUI\" and \"Narcotics\" as columns and the total number of arrests as values. You can do this with a pivot table or a groupby-aggregation. Save the result as `monthly_crime_pivot` and show the tail."
   ]
  },
  {
   "cell_type": "code",
   "execution_count": 135,
   "metadata": {},
   "outputs": [
    {
     "data": {
      "text/html": [
       "<div>\n",
       "<style scoped>\n",
       "    .dataframe tbody tr th:only-of-type {\n",
       "        vertical-align: middle;\n",
       "    }\n",
       "\n",
       "    .dataframe tbody tr th {\n",
       "        vertical-align: top;\n",
       "    }\n",
       "\n",
       "    .dataframe thead tr th {\n",
       "        text-align: left;\n",
       "    }\n",
       "\n",
       "    .dataframe thead tr:last-of-type th {\n",
       "        text-align: right;\n",
       "    }\n",
       "</style>\n",
       "<table border=\"1\" class=\"dataframe\">\n",
       "  <thead>\n",
       "    <tr>\n",
       "      <th></th>\n",
       "      <th colspan=\"2\" halign=\"left\">Arrests</th>\n",
       "    </tr>\n",
       "    <tr>\n",
       "      <th>Type</th>\n",
       "      <th>DUI</th>\n",
       "      <th>Narcotics</th>\n",
       "    </tr>\n",
       "    <tr>\n",
       "      <th>Time</th>\n",
       "      <th></th>\n",
       "      <th></th>\n",
       "    </tr>\n",
       "  </thead>\n",
       "  <tbody>\n",
       "    <tr>\n",
       "      <th>2019-08</th>\n",
       "      <td>29.234375</td>\n",
       "      <td>23.412698</td>\n",
       "    </tr>\n",
       "    <tr>\n",
       "      <th>2019-09</th>\n",
       "      <td>26.296875</td>\n",
       "      <td>23.000000</td>\n",
       "    </tr>\n",
       "    <tr>\n",
       "      <th>2019-10</th>\n",
       "      <td>24.703125</td>\n",
       "      <td>22.396825</td>\n",
       "    </tr>\n",
       "    <tr>\n",
       "      <th>2019-11</th>\n",
       "      <td>27.531250</td>\n",
       "      <td>20.365079</td>\n",
       "    </tr>\n",
       "    <tr>\n",
       "      <th>2019-12</th>\n",
       "      <td>26.843750</td>\n",
       "      <td>18.809524</td>\n",
       "    </tr>\n",
       "  </tbody>\n",
       "</table>\n",
       "</div>"
      ],
      "text/plain": [
       "           Arrests           \n",
       "Type           DUI  Narcotics\n",
       "Time                         \n",
       "2019-08  29.234375  23.412698\n",
       "2019-09  26.296875  23.000000\n",
       "2019-10  24.703125  22.396825\n",
       "2019-11  27.531250  20.365079\n",
       "2019-12  26.843750  18.809524"
      ]
     },
     "execution_count": 135,
     "metadata": {},
     "output_type": "execute_result"
    }
   ],
   "source": [
    "\n",
    "\n",
    "\n",
    "monthly_crime_pivot = pd.pivot_table(crime_df, values=['Arrests'], index=['Time'],\n",
    "                    columns=[\"Type\"])\n",
    "\n",
    "monthly_crime_pivot.tail()"
   ]
  },
  {
   "cell_type": "markdown",
   "metadata": {},
   "source": [
    "Make a lineplot of total DUI and Narcotics arrests by month using `monthly_crime_pivot`. Label your axes and title."
   ]
  },
  {
   "cell_type": "code",
   "execution_count": 136,
   "metadata": {},
   "outputs": [
    {
     "data": {
      "image/png": "[encoded data removed]",
      "text/plain": [
       "<Figure size 432x288 with 1 Axes>"
      ]
     },
     "metadata": {
      "needs_background": "light"
     },
     "output_type": "display_data"
    }
   ],
   "source": [
    "lines3 = monthly_crime_pivot.plot.line()"
   ]
  },
  {
   "cell_type": "markdown",
   "metadata": {},
   "source": [
    "Pick a county in Colorado and filter the crime DataFrame to only that county's values. Reshape the data to include DUIs and Narcotics like we did above. Save as `county_monthly_crime_pivot`. Show the tail of this data."
   ]
  },
  {
   "cell_type": "code",
   "execution_count": 121,
   "metadata": {},
   "outputs": [
    {
     "data": {
      "text/html": [
       "<div>\n",
       "<style scoped>\n",
       "    .dataframe tbody tr th:only-of-type {\n",
       "        vertical-align: middle;\n",
       "    }\n",
       "\n",
       "    .dataframe tbody tr th {\n",
       "        vertical-align: top;\n",
       "    }\n",
       "\n",
       "    .dataframe thead tr th {\n",
       "        text-align: left;\n",
       "    }\n",
       "\n",
       "    .dataframe thead tr:last-of-type th {\n",
       "        text-align: right;\n",
       "    }\n",
       "</style>\n",
       "<table border=\"1\" class=\"dataframe\">\n",
       "  <thead>\n",
       "    <tr>\n",
       "      <th></th>\n",
       "      <th colspan=\"2\" halign=\"left\">Arrests</th>\n",
       "    </tr>\n",
       "    <tr>\n",
       "      <th>Type</th>\n",
       "      <th>DUI</th>\n",
       "      <th>Narcotics</th>\n",
       "    </tr>\n",
       "    <tr>\n",
       "      <th>Time</th>\n",
       "      <th></th>\n",
       "      <th></th>\n",
       "    </tr>\n",
       "  </thead>\n",
       "  <tbody>\n",
       "    <tr>\n",
       "      <th>2019-08</th>\n",
       "      <td>29.234375</td>\n",
       "      <td>23.412698</td>\n",
       "    </tr>\n",
       "    <tr>\n",
       "      <th>2019-09</th>\n",
       "      <td>26.296875</td>\n",
       "      <td>23.000000</td>\n",
       "    </tr>\n",
       "    <tr>\n",
       "      <th>2019-10</th>\n",
       "      <td>24.703125</td>\n",
       "      <td>22.396825</td>\n",
       "    </tr>\n",
       "    <tr>\n",
       "      <th>2019-11</th>\n",
       "      <td>27.531250</td>\n",
       "      <td>20.365079</td>\n",
       "    </tr>\n",
       "    <tr>\n",
       "      <th>2019-12</th>\n",
       "      <td>26.843750</td>\n",
       "      <td>18.809524</td>\n",
       "    </tr>\n",
       "  </tbody>\n",
       "</table>\n",
       "</div>"
      ],
      "text/plain": [
       "           Arrests           \n",
       "Type           DUI  Narcotics\n",
       "Time                         \n",
       "2019-08  29.234375  23.412698\n",
       "2019-09  26.296875  23.000000\n",
       "2019-10  24.703125  22.396825\n",
       "2019-11  27.531250  20.365079\n",
       "2019-12  26.843750  18.809524"
      ]
     },
     "execution_count": 121,
     "metadata": {},
     "output_type": "execute_result"
    }
   ],
   "source": [
    "\n",
    "crime_df.filter(like='Boulder')\n",
    "\n",
    "\n",
    "\n",
    "county_monthly_crime_pivot = pd.pivot_table(crime_df, values=['Arrests'], index=['Time'],\n",
    "                    columns=[\"Type\"])\n",
    "\n",
    "county_monthly_crime_pivot.tail()"
   ]
  },
  {
   "cell_type": "markdown",
   "metadata": {},
   "source": [
    "Visualize the county-level data over time as a line plot like we did above."
   ]
  },
  {
   "cell_type": "code",
   "execution_count": 119,
   "metadata": {},
   "outputs": [
    {
     "data": {
      "image/png": "[encoded data removed]",
      "text/plain": [
       "<Figure size 432x288 with 1 Axes>"
      ]
     },
     "metadata": {
      "needs_background": "light"
     },
     "output_type": "display_data"
    }
   ],
   "source": [
    "lines4 = county_monthly_crime_pivot.plot.line()"
   ]
  },
  {
   "cell_type": "markdown",
   "metadata": {},
   "source": [
    "### Combine both state-level datasets\n",
    "\n",
    "Use `pd.merge` to combine the reshaped state-level DataFrames using an \"inner\" join called `combined_df` and inspect."
   ]
  },
  {
   "cell_type": "code",
   "execution_count": 143,
   "metadata": {},
   "outputs": [
    {
     "name": "stdout",
     "output_type": "stream",
     "text": [
      "<class 'pandas.core.frame.DataFrame'>\n",
      "Index: 72 entries, 2014-01 to 2019-12\n",
      "Data columns (total 4 columns):\n",
      " #   Column                 Non-Null Count  Dtype  \n",
      "---  ------                 --------------  -----  \n",
      " 0   (Sales, Medical)       72 non-null     float64\n",
      " 1   (Sales, Recreational)  72 non-null     float64\n",
      " 2   (Arrests, DUI)         72 non-null     float64\n",
      " 3   (Arrests, Narcotics)   72 non-null     float64\n",
      "dtypes: float64(4)\n",
      "memory usage: 2.8+ KB\n"
     ]
    }
   ],
   "source": [
    "\n",
    "combined_df= pd.merge(monthly_sales_pivot, monthly_crime_pivot, left_index=True, right_index=True)\n",
    "\n",
    "combined_df.info()"
   ]
  },
  {
   "cell_type": "code",
   "execution_count": 144,
   "metadata": {},
   "outputs": [
    {
     "data": {
      "text/html": [
       "<div>\n",
       "<style scoped>\n",
       "    .dataframe tbody tr th:only-of-type {\n",
       "        vertical-align: middle;\n",
       "    }\n",
       "\n",
       "    .dataframe tbody tr th {\n",
       "        vertical-align: top;\n",
       "    }\n",
       "\n",
       "    .dataframe thead tr th {\n",
       "        text-align: left;\n",
       "    }\n",
       "\n",
       "    .dataframe thead tr:last-of-type th {\n",
       "        text-align: right;\n",
       "    }\n",
       "</style>\n",
       "<table border=\"1\" class=\"dataframe\">\n",
       "  <thead>\n",
       "    <tr>\n",
       "      <th></th>\n",
       "      <th colspan=\"2\" halign=\"left\">Sales</th>\n",
       "      <th colspan=\"2\" halign=\"left\">Arrests</th>\n",
       "    </tr>\n",
       "    <tr>\n",
       "      <th>Type</th>\n",
       "      <th>Medical</th>\n",
       "      <th>Recreational</th>\n",
       "      <th>DUI</th>\n",
       "      <th>Narcotics</th>\n",
       "    </tr>\n",
       "    <tr>\n",
       "      <th>Time</th>\n",
       "      <th></th>\n",
       "      <th></th>\n",
       "      <th></th>\n",
       "      <th></th>\n",
       "    </tr>\n",
       "  </thead>\n",
       "  <tbody>\n",
       "    <tr>\n",
       "      <th>2014-01</th>\n",
       "      <td>32105349.0</td>\n",
       "      <td>11606429.0</td>\n",
       "      <td>30.328125</td>\n",
       "      <td>16.984127</td>\n",
       "    </tr>\n",
       "    <tr>\n",
       "      <th>2014-02</th>\n",
       "      <td>31203950.0</td>\n",
       "      <td>11905758.0</td>\n",
       "      <td>28.953125</td>\n",
       "      <td>16.936508</td>\n",
       "    </tr>\n",
       "    <tr>\n",
       "      <th>2014-03</th>\n",
       "      <td>33964665.0</td>\n",
       "      <td>16799118.0</td>\n",
       "      <td>37.078125</td>\n",
       "      <td>19.904762</td>\n",
       "    </tr>\n",
       "    <tr>\n",
       "      <th>2014-04</th>\n",
       "      <td>32079528.0</td>\n",
       "      <td>18520452.0</td>\n",
       "      <td>33.437500</td>\n",
       "      <td>20.428571</td>\n",
       "    </tr>\n",
       "    <tr>\n",
       "      <th>2014-05</th>\n",
       "      <td>30832970.0</td>\n",
       "      <td>18920521.0</td>\n",
       "      <td>35.640625</td>\n",
       "      <td>18.031746</td>\n",
       "    </tr>\n",
       "    <tr>\n",
       "      <th>...</th>\n",
       "      <td>...</td>\n",
       "      <td>...</td>\n",
       "      <td>...</td>\n",
       "      <td>...</td>\n",
       "    </tr>\n",
       "    <tr>\n",
       "      <th>2019-08</th>\n",
       "      <td>30401777.0</td>\n",
       "      <td>136935124.0</td>\n",
       "      <td>29.234375</td>\n",
       "      <td>23.412698</td>\n",
       "    </tr>\n",
       "    <tr>\n",
       "      <th>2019-09</th>\n",
       "      <td>27866924.0</td>\n",
       "      <td>122125039.0</td>\n",
       "      <td>26.296875</td>\n",
       "      <td>23.000000</td>\n",
       "    </tr>\n",
       "    <tr>\n",
       "      <th>2019-10</th>\n",
       "      <td>28379523.0</td>\n",
       "      <td>116469574.0</td>\n",
       "      <td>24.703125</td>\n",
       "      <td>22.396825</td>\n",
       "    </tr>\n",
       "    <tr>\n",
       "      <th>2019-11</th>\n",
       "      <td>25897253.0</td>\n",
       "      <td>109727058.0</td>\n",
       "      <td>27.531250</td>\n",
       "      <td>20.365079</td>\n",
       "    </tr>\n",
       "    <tr>\n",
       "      <th>2019-12</th>\n",
       "      <td>26408203.0</td>\n",
       "      <td>112343120.0</td>\n",
       "      <td>26.843750</td>\n",
       "      <td>18.809524</td>\n",
       "    </tr>\n",
       "  </tbody>\n",
       "</table>\n",
       "<p>72 rows × 4 columns</p>\n",
       "</div>"
      ],
      "text/plain": [
       "              Sales                 Arrests           \n",
       "Type        Medical Recreational        DUI  Narcotics\n",
       "Time                                                  \n",
       "2014-01  32105349.0   11606429.0  30.328125  16.984127\n",
       "2014-02  31203950.0   11905758.0  28.953125  16.936508\n",
       "2014-03  33964665.0   16799118.0  37.078125  19.904762\n",
       "2014-04  32079528.0   18520452.0  33.437500  20.428571\n",
       "2014-05  30832970.0   18920521.0  35.640625  18.031746\n",
       "...             ...          ...        ...        ...\n",
       "2019-08  30401777.0  136935124.0  29.234375  23.412698\n",
       "2019-09  27866924.0  122125039.0  26.296875  23.000000\n",
       "2019-10  28379523.0  116469574.0  24.703125  22.396825\n",
       "2019-11  25897253.0  109727058.0  27.531250  20.365079\n",
       "2019-12  26408203.0  112343120.0  26.843750  18.809524\n",
       "\n",
       "[72 rows x 4 columns]"
      ]
     },
     "execution_count": 144,
     "metadata": {},
     "output_type": "execute_result"
    }
   ],
   "source": [
    "combined_df"
   ]
  },
  {
   "cell_type": "markdown",
   "metadata": {},
   "source": [
    "Create a new normalized DataFrame called `normalized_df` by [dividing](https://pandas.pydata.org/pandas-docs/stable/reference/api/pandas.DataFrame.divide.html) by the January 2014 values in each column."
   ]
  },
  {
   "cell_type": "code",
   "execution_count": 342,
   "metadata": {},
   "outputs": [],
   "source": [
    "normalized_df =  combined_df.div(combined_df.iloc[0])"
   ]
  },
  {
   "cell_type": "markdown",
   "metadata": {},
   "source": [
    "Inspect the head of `normalized_df` to confirm the January 1, 2014 values are 1."
   ]
  },
  {
   "cell_type": "code",
   "execution_count": 343,
   "metadata": {},
   "outputs": [
    {
     "data": {
      "text/html": [
       "<div>\n",
       "<style scoped>\n",
       "    .dataframe tbody tr th:only-of-type {\n",
       "        vertical-align: middle;\n",
       "    }\n",
       "\n",
       "    .dataframe tbody tr th {\n",
       "        vertical-align: top;\n",
       "    }\n",
       "\n",
       "    .dataframe thead tr th {\n",
       "        text-align: left;\n",
       "    }\n",
       "\n",
       "    .dataframe thead tr:last-of-type th {\n",
       "        text-align: right;\n",
       "    }\n",
       "</style>\n",
       "<table border=\"1\" class=\"dataframe\">\n",
       "  <thead>\n",
       "    <tr>\n",
       "      <th></th>\n",
       "      <th colspan=\"2\" halign=\"left\">Sales</th>\n",
       "      <th colspan=\"2\" halign=\"left\">Arrests</th>\n",
       "    </tr>\n",
       "    <tr>\n",
       "      <th>Type</th>\n",
       "      <th>Medical</th>\n",
       "      <th>Recreational</th>\n",
       "      <th>DUI</th>\n",
       "      <th>Narcotics</th>\n",
       "    </tr>\n",
       "    <tr>\n",
       "      <th>Time</th>\n",
       "      <th></th>\n",
       "      <th></th>\n",
       "      <th></th>\n",
       "      <th></th>\n",
       "    </tr>\n",
       "  </thead>\n",
       "  <tbody>\n",
       "    <tr>\n",
       "      <th>2014-01</th>\n",
       "      <td>1.000000</td>\n",
       "      <td>1.000000</td>\n",
       "      <td>1.000000</td>\n",
       "      <td>1.000000</td>\n",
       "    </tr>\n",
       "    <tr>\n",
       "      <th>2014-02</th>\n",
       "      <td>0.971924</td>\n",
       "      <td>1.025790</td>\n",
       "      <td>0.954663</td>\n",
       "      <td>0.997196</td>\n",
       "    </tr>\n",
       "    <tr>\n",
       "      <th>2014-03</th>\n",
       "      <td>1.057913</td>\n",
       "      <td>1.447398</td>\n",
       "      <td>1.222566</td>\n",
       "      <td>1.171963</td>\n",
       "    </tr>\n",
       "    <tr>\n",
       "      <th>2014-04</th>\n",
       "      <td>0.999196</td>\n",
       "      <td>1.595706</td>\n",
       "      <td>1.102524</td>\n",
       "      <td>1.202804</td>\n",
       "    </tr>\n",
       "    <tr>\n",
       "      <th>2014-05</th>\n",
       "      <td>0.960369</td>\n",
       "      <td>1.630176</td>\n",
       "      <td>1.175167</td>\n",
       "      <td>1.061682</td>\n",
       "    </tr>\n",
       "  </tbody>\n",
       "</table>\n",
       "</div>"
      ],
      "text/plain": [
       "            Sales                Arrests          \n",
       "Type      Medical Recreational       DUI Narcotics\n",
       "Time                                              \n",
       "2014-01  1.000000     1.000000  1.000000  1.000000\n",
       "2014-02  0.971924     1.025790  0.954663  0.997196\n",
       "2014-03  1.057913     1.447398  1.222566  1.171963\n",
       "2014-04  0.999196     1.595706  1.102524  1.202804\n",
       "2014-05  0.960369     1.630176  1.175167  1.061682"
      ]
     },
     "execution_count": 343,
     "metadata": {},
     "output_type": "execute_result"
    }
   ],
   "source": [
    "normalized_df.head()"
   ]
  },
  {
   "cell_type": "markdown",
   "metadata": {},
   "source": [
    "Using `normalized_df`, make a line plot with the normalized DUI and Recreational values."
   ]
  },
  {
   "cell_type": "code",
   "execution_count": 150,
   "metadata": {},
   "outputs": [
    {
     "data": {
      "image/png": "[encoded data removed]",
      "text/plain": [
       "<Figure size 432x288 with 1 Axes>"
      ]
     },
     "metadata": {
      "needs_background": "light"
     },
     "output_type": "display_data"
    }
   ],
   "source": [
    "lines5 = normalized_df.plot.line()"
   ]
  },
  {
   "cell_type": "markdown",
   "metadata": {},
   "source": [
    "Is this a helpful visualization? Why or why not?"
   ]
  },
  {
   "cell_type": "markdown",
   "metadata": {},
   "source": [
    "This is very helpful as it shows that the sales of recreational marihuana increased even as everything else stayed roughly the same."
   ]
  },
  {
   "cell_type": "markdown",
   "metadata": {},
   "source": [
    "Compute the [correlation coefficients](https://pandas.pydata.org/pandas-docs/stable/reference/api/pandas.DataFrame.corr.html) between the columns in `normalized_df`. (The values are symmetrical around the diagonal.) Pick two different values and interpret them."
   ]
  },
  {
   "cell_type": "code",
   "execution_count": 329,
   "metadata": {},
   "outputs": [
    {
     "data": {
      "text/html": [
       "<div>\n",
       "<style scoped>\n",
       "    .dataframe tbody tr th:only-of-type {\n",
       "        vertical-align: middle;\n",
       "    }\n",
       "\n",
       "    .dataframe tbody tr th {\n",
       "        vertical-align: top;\n",
       "    }\n",
       "\n",
       "    .dataframe thead tr th {\n",
       "        text-align: left;\n",
       "    }\n",
       "\n",
       "    .dataframe thead tr:last-of-type th {\n",
       "        text-align: right;\n",
       "    }\n",
       "</style>\n",
       "<table border=\"1\" class=\"dataframe\">\n",
       "  <thead>\n",
       "    <tr>\n",
       "      <th></th>\n",
       "      <th></th>\n",
       "      <th colspan=\"2\" halign=\"left\">Sales</th>\n",
       "      <th colspan=\"2\" halign=\"left\">Arrests</th>\n",
       "    </tr>\n",
       "    <tr>\n",
       "      <th></th>\n",
       "      <th>Type</th>\n",
       "      <th>Medical</th>\n",
       "      <th>Recreational</th>\n",
       "      <th>DUI</th>\n",
       "      <th>Narcotics</th>\n",
       "    </tr>\n",
       "    <tr>\n",
       "      <th></th>\n",
       "      <th>Type</th>\n",
       "      <th></th>\n",
       "      <th></th>\n",
       "      <th></th>\n",
       "      <th></th>\n",
       "    </tr>\n",
       "  </thead>\n",
       "  <tbody>\n",
       "    <tr>\n",
       "      <th rowspan=\"2\" valign=\"top\">Sales</th>\n",
       "      <th>Medical</th>\n",
       "      <td>1.000000</td>\n",
       "      <td>-0.313120</td>\n",
       "      <td>0.276697</td>\n",
       "      <td>-0.208629</td>\n",
       "    </tr>\n",
       "    <tr>\n",
       "      <th>Recreational</th>\n",
       "      <td>-0.313120</td>\n",
       "      <td>1.000000</td>\n",
       "      <td>-0.628621</td>\n",
       "      <td>0.629456</td>\n",
       "    </tr>\n",
       "    <tr>\n",
       "      <th rowspan=\"2\" valign=\"top\">Arrests</th>\n",
       "      <th>DUI</th>\n",
       "      <td>0.276697</td>\n",
       "      <td>-0.628621</td>\n",
       "      <td>1.000000</td>\n",
       "      <td>-0.240662</td>\n",
       "    </tr>\n",
       "    <tr>\n",
       "      <th>Narcotics</th>\n",
       "      <td>-0.208629</td>\n",
       "      <td>0.629456</td>\n",
       "      <td>-0.240662</td>\n",
       "      <td>1.000000</td>\n",
       "    </tr>\n",
       "  </tbody>\n",
       "</table>\n",
       "</div>"
      ],
      "text/plain": [
       "                         Sales                Arrests          \n",
       "Type                   Medical Recreational       DUI Narcotics\n",
       "        Type                                                   \n",
       "Sales   Medical       1.000000    -0.313120  0.276697 -0.208629\n",
       "        Recreational -0.313120     1.000000 -0.628621  0.629456\n",
       "Arrests DUI           0.276697    -0.628621  1.000000 -0.240662\n",
       "        Narcotics    -0.208629     0.629456 -0.240662  1.000000"
      ]
     },
     "execution_count": 329,
     "metadata": {},
     "output_type": "execute_result"
    }
   ],
   "source": [
    "p = normalized_df.corr(method='pearson')\n",
    "p"
   ]
  },
  {
   "cell_type": "markdown",
   "metadata": {},
   "source": [
    "The value of -0.628621 for DUI and Recreational means that there is a moderate negative correlation between the rise of Recreational marijuana sales and the prevalence of DUI arrests. The vale of 0.629456 for Narcotics and Recreational indicates that their is a moderate positive correlation between recreational marijuana sales and narcotics arrests. This means that rising sales of recreational marijuana has contributed (or is associated with rather) a rise is arrests for people in possesion of narcotics but a decrease in DUI (drunk driving) arrests."
   ]
  },
  {
   "cell_type": "markdown",
   "metadata": {},
   "source": [
    "Using `normalized_df`, make a scatter plot with \"Recreational\" on the x-axis and \"DUI\" on the y-axis."
   ]
  },
  {
   "cell_type": "code",
   "execution_count": 347,
   "metadata": {},
   "outputs": [
    {
     "data": {
      "text/plain": [
       "<AxesSubplot:xlabel='Recreational', ylabel='DUI'>"
      ]
     },
     "execution_count": 347,
     "metadata": {},
     "output_type": "execute_result"
    },
    {
     "data": {
      "image/png": "[encoded data removed]",
      "text/plain": [
       "<Figure size 432x288 with 1 Axes>"
      ]
     },
     "metadata": {
      "needs_background": "light"
     },
     "output_type": "display_data"
    }
   ],
   "source": [
    "\n",
    "\n",
    "#normalized_df.columns = normalized_df.columns.droplevel()\n",
    "\n",
    "\n",
    "normalized_df.plot(kind='scatter',x='Recreational',y='DUI')"
   ]
  },
  {
   "cell_type": "markdown",
   "metadata": {},
   "source": [
    "Interpret the plot."
   ]
  },
  {
   "cell_type": "markdown",
   "metadata": {},
   "source": [
    "Negative correlation between DUI arrests and recreational sales."
   ]
  },
  {
   "cell_type": "markdown",
   "metadata": {},
   "source": [
    "Using `normalized_df`, make a scatter plot data with \"Recreational\" on the x-axis and \"Narcotics\" on the y-axis."
   ]
  },
  {
   "cell_type": "code",
   "execution_count": 348,
   "metadata": {},
   "outputs": [
    {
     "data": {
      "text/plain": [
       "<AxesSubplot:xlabel='Recreational', ylabel='Narcotics'>"
      ]
     },
     "execution_count": 348,
     "metadata": {},
     "output_type": "execute_result"
    },
    {
     "data": {
      "image/png": "[encoded data removed]",
      "text/plain": [
       "<Figure size 432x288 with 1 Axes>"
      ]
     },
     "metadata": {
      "needs_background": "light"
     },
     "output_type": "display_data"
    }
   ],
   "source": [
    "normalized_df.plot.scatter(x=\"Recreational\" ,y=\"Narcotics\")"
   ]
  },
  {
   "cell_type": "markdown",
   "metadata": {},
   "source": [
    "Interpet this plot."
   ]
  },
  {
   "cell_type": "markdown",
   "metadata": {},
   "source": [
    "Positive correlation between recreational sales and narcotics arrests."
   ]
  },
  {
   "cell_type": "markdown",
   "metadata": {},
   "source": [
    "## Spatial visualization\n",
    "\n",
    "### Sales data\n",
    "Merge the county GeoDataFrame (left) with the original sales data (right) with a left join on the county names to a GeoDataFrame called `sales_gdf`. Check to make sure the merged object is a GeoDataFrame, print the shape, and inspect the head."
   ]
  },
  {
   "cell_type": "code",
   "execution_count": 221,
   "metadata": {},
   "outputs": [
    {
     "data": {
      "text/plain": [
       "(5418, 14)"
      ]
     },
     "execution_count": 221,
     "metadata": {},
     "output_type": "execute_result"
    }
   ],
   "source": [
    "\n",
    "sales_gdf= pd.merge(left=co_counties_gdf, right=sales_df,  how = 'left', left_on='county', right_on='County')\n",
    "sales_gdf.shape\n",
    "\n"
   ]
  },
  {
   "cell_type": "code",
   "execution_count": 222,
   "metadata": {},
   "outputs": [
    {
     "data": {
      "text/html": [
       "<div>\n",
       "<style scoped>\n",
       "    .dataframe tbody tr th:only-of-type {\n",
       "        vertical-align: middle;\n",
       "    }\n",
       "\n",
       "    .dataframe tbody tr th {\n",
       "        vertical-align: top;\n",
       "    }\n",
       "\n",
       "    .dataframe thead th {\n",
       "        text-align: right;\n",
       "    }\n",
       "</style>\n",
       "<table border=\"1\" class=\"dataframe\">\n",
       "  <thead>\n",
       "    <tr style=\"text-align: right;\">\n",
       "      <th></th>\n",
       "      <th>co_fips</th>\n",
       "      <th>county</th>\n",
       "      <th>househo_20</th>\n",
       "      <th>pop_2010</th>\n",
       "      <th>shape_st_1</th>\n",
       "      <th>shape_st_2</th>\n",
       "      <th>shape_star</th>\n",
       "      <th>shape_stle</th>\n",
       "      <th>geometry</th>\n",
       "      <th>Time</th>\n",
       "      <th>County</th>\n",
       "      <th>Sales</th>\n",
       "      <th>Type</th>\n",
       "      <th>date</th>\n",
       "    </tr>\n",
       "  </thead>\n",
       "  <tbody>\n",
       "    <tr>\n",
       "      <th>0</th>\n",
       "      <td>1.0</td>\n",
       "      <td>Adams</td>\n",
       "      <td>154502.0</td>\n",
       "      <td>441603.0</td>\n",
       "      <td>3.064413e+09</td>\n",
       "      <td>392729.110497</td>\n",
       "      <td>0.0</td>\n",
       "      <td>0.0</td>\n",
       "      <td>POLYGON ((-103.70574 39.99991, -103.70569 39.9...</td>\n",
       "      <td>2014-01</td>\n",
       "      <td>Adams</td>\n",
       "      <td>683098.0</td>\n",
       "      <td>Medical</td>\n",
       "      <td>2014-01-01</td>\n",
       "    </tr>\n",
       "    <tr>\n",
       "      <th>1</th>\n",
       "      <td>1.0</td>\n",
       "      <td>Adams</td>\n",
       "      <td>154502.0</td>\n",
       "      <td>441603.0</td>\n",
       "      <td>3.064413e+09</td>\n",
       "      <td>392729.110497</td>\n",
       "      <td>0.0</td>\n",
       "      <td>0.0</td>\n",
       "      <td>POLYGON ((-103.70574 39.99991, -103.70569 39.9...</td>\n",
       "      <td>2014-01</td>\n",
       "      <td>Adams</td>\n",
       "      <td>NaN</td>\n",
       "      <td>Recreational</td>\n",
       "      <td>2014-01-01</td>\n",
       "    </tr>\n",
       "    <tr>\n",
       "      <th>2</th>\n",
       "      <td>1.0</td>\n",
       "      <td>Adams</td>\n",
       "      <td>154502.0</td>\n",
       "      <td>441603.0</td>\n",
       "      <td>3.064413e+09</td>\n",
       "      <td>392729.110497</td>\n",
       "      <td>0.0</td>\n",
       "      <td>0.0</td>\n",
       "      <td>POLYGON ((-103.70574 39.99991, -103.70569 39.9...</td>\n",
       "      <td>2014-02</td>\n",
       "      <td>Adams</td>\n",
       "      <td>NaN</td>\n",
       "      <td>Recreational</td>\n",
       "      <td>2014-02-01</td>\n",
       "    </tr>\n",
       "    <tr>\n",
       "      <th>3</th>\n",
       "      <td>1.0</td>\n",
       "      <td>Adams</td>\n",
       "      <td>154502.0</td>\n",
       "      <td>441603.0</td>\n",
       "      <td>3.064413e+09</td>\n",
       "      <td>392729.110497</td>\n",
       "      <td>0.0</td>\n",
       "      <td>0.0</td>\n",
       "      <td>POLYGON ((-103.70574 39.99991, -103.70569 39.9...</td>\n",
       "      <td>2014-02</td>\n",
       "      <td>Adams</td>\n",
       "      <td>454940.0</td>\n",
       "      <td>Medical</td>\n",
       "      <td>2014-02-01</td>\n",
       "    </tr>\n",
       "    <tr>\n",
       "      <th>4</th>\n",
       "      <td>1.0</td>\n",
       "      <td>Adams</td>\n",
       "      <td>154502.0</td>\n",
       "      <td>441603.0</td>\n",
       "      <td>3.064413e+09</td>\n",
       "      <td>392729.110497</td>\n",
       "      <td>0.0</td>\n",
       "      <td>0.0</td>\n",
       "      <td>POLYGON ((-103.70574 39.99991, -103.70569 39.9...</td>\n",
       "      <td>2014-03</td>\n",
       "      <td>Adams</td>\n",
       "      <td>NaN</td>\n",
       "      <td>Recreational</td>\n",
       "      <td>2014-03-01</td>\n",
       "    </tr>\n",
       "  </tbody>\n",
       "</table>\n",
       "</div>"
      ],
      "text/plain": [
       "   co_fips county  househo_20  pop_2010    shape_st_1     shape_st_2  \\\n",
       "0      1.0  Adams    154502.0  441603.0  3.064413e+09  392729.110497   \n",
       "1      1.0  Adams    154502.0  441603.0  3.064413e+09  392729.110497   \n",
       "2      1.0  Adams    154502.0  441603.0  3.064413e+09  392729.110497   \n",
       "3      1.0  Adams    154502.0  441603.0  3.064413e+09  392729.110497   \n",
       "4      1.0  Adams    154502.0  441603.0  3.064413e+09  392729.110497   \n",
       "\n",
       "   shape_star  shape_stle                                           geometry  \\\n",
       "0         0.0         0.0  POLYGON ((-103.70574 39.99991, -103.70569 39.9...   \n",
       "1         0.0         0.0  POLYGON ((-103.70574 39.99991, -103.70569 39.9...   \n",
       "2         0.0         0.0  POLYGON ((-103.70574 39.99991, -103.70569 39.9...   \n",
       "3         0.0         0.0  POLYGON ((-103.70574 39.99991, -103.70569 39.9...   \n",
       "4         0.0         0.0  POLYGON ((-103.70574 39.99991, -103.70569 39.9...   \n",
       "\n",
       "      Time County     Sales          Type       date  \n",
       "0  2014-01  Adams  683098.0       Medical 2014-01-01  \n",
       "1  2014-01  Adams       NaN  Recreational 2014-01-01  \n",
       "2  2014-02  Adams       NaN  Recreational 2014-02-01  \n",
       "3  2014-02  Adams  454940.0       Medical 2014-02-01  \n",
       "4  2014-03  Adams       NaN  Recreational 2014-03-01  "
      ]
     },
     "execution_count": 222,
     "metadata": {},
     "output_type": "execute_result"
    }
   ],
   "source": [
    "sales_gdf.head()"
   ]
  },
  {
   "cell_type": "markdown",
   "metadata": {},
   "source": [
    "Filter the data to \"Recreational\" sales in December 2014. Visualize the \"Sales\" as a choropleth. Bonus points for using a basemap. Extra bonus points for using a [lognorm colormap](https://matplotlib.org/3.1.0/gallery/userdemo/colormap_normalizations_lognorm.html)."
   ]
  },
  {
   "cell_type": "code",
   "execution_count": 201,
   "metadata": {},
   "outputs": [],
   "source": [
    "sales_gdf1 = sales_gdf[sales_gdf['Time']=='2014-12']\n",
    "sales_gdf1 = sales_gdf1[sales_gdf1['Type']=='Recreational']"
   ]
  },
  {
   "cell_type": "code",
   "execution_count": 323,
   "metadata": {},
   "outputs": [
    {
     "data": {
      "text/plain": [
       "<AxesSubplot:>"
      ]
     },
     "execution_count": 323,
     "metadata": {},
     "output_type": "execute_result"
    },
    {
     "data": {
      "image/png": "[encoded data removed]",
      "text/plain": [
       "<Figure size 432x288 with 2 Axes>"
      ]
     },
     "metadata": {
      "needs_background": "light"
     },
     "output_type": "display_data"
    }
   ],
   "source": [
    "import matplotlib.pyplot as plt\n",
    "\n",
    "fig, ax = plt.subplots(1, 1)\n",
    "\n",
    "\n",
    "\n",
    "sales_gdf1.plot(column='Sales', ax=ax, legend='true', legend_kwds={'label': \"Recreational Sales by County 12-2014\",'orientation': \"horizontal\"})\n",
    "\n"
   ]
  },
  {
   "cell_type": "markdown",
   "metadata": {},
   "source": [
    "Filter the data to \"Recreational\" sales in December 2019. Visualize the \"Sales\" as a choropleth. Bonus points for using a basemap. Extra bonus points for using a [lognorm colormap](https://matplotlib.org/3.1.0/gallery/userdemo/colormap_normalizations_lognorm.html)."
   ]
  },
  {
   "cell_type": "code",
   "execution_count": 216,
   "metadata": {},
   "outputs": [
    {
     "data": {
      "text/plain": [
       "<AxesSubplot:>"
      ]
     },
     "execution_count": 216,
     "metadata": {},
     "output_type": "execute_result"
    },
    {
     "data": {
      "image/png": "[encoded data removed]",
      "text/plain": [
       "<Figure size 432x288 with 2 Axes>"
      ]
     },
     "metadata": {
      "needs_background": "light"
     },
     "output_type": "display_data"
    }
   ],
   "source": [
    "sales_gdf2 = sales_gdf[sales_gdf['Time']=='2019-12']\n",
    "sales_gdf2 = sales_gdf2[sales_gdf2['Type']=='Recreational']\n",
    "\n",
    "sales_gdf2\n",
    "\n",
    "fig, ax = plt.subplots(1, 1)\n",
    "\n",
    "\n",
    "\n",
    "sales_gdf2.plot(column='Sales', ax=ax, legend='true', legend_kwds={'label': \"Recreational Sales by County 12-2019\",'orientation': \"horizontal\"})\n",
    "\n"
   ]
  },
  {
   "cell_type": "markdown",
   "metadata": {},
   "source": [
    "Interpet some changes you observe between the two maps."
   ]
  },
  {
   "cell_type": "markdown",
   "metadata": {},
   "source": [
    "Recreational sales increased in many different(most) counties."
   ]
  },
  {
   "cell_type": "markdown",
   "metadata": {},
   "source": [
    "### Crime data\n",
    "\n",
    "Merge `co_counties_gdf` (left) with `crime_df` (right) into a GeoDataFrame called `crime_gdf`. Check to make sure the merged object is a GeoDataFrame, print the shape, and inspect the head."
   ]
  },
  {
   "cell_type": "code",
   "execution_count": 218,
   "metadata": {},
   "outputs": [
    {
     "data": {
      "text/html": [
       "<div>\n",
       "<style scoped>\n",
       "    .dataframe tbody tr th:only-of-type {\n",
       "        vertical-align: middle;\n",
       "    }\n",
       "\n",
       "    .dataframe tbody tr th {\n",
       "        vertical-align: top;\n",
       "    }\n",
       "\n",
       "    .dataframe thead th {\n",
       "        text-align: right;\n",
       "    }\n",
       "</style>\n",
       "<table border=\"1\" class=\"dataframe\">\n",
       "  <thead>\n",
       "    <tr style=\"text-align: right;\">\n",
       "      <th></th>\n",
       "      <th>co_fips</th>\n",
       "      <th>county</th>\n",
       "      <th>househo_20</th>\n",
       "      <th>pop_2010</th>\n",
       "      <th>shape_st_1</th>\n",
       "      <th>shape_st_2</th>\n",
       "      <th>shape_star</th>\n",
       "      <th>shape_stle</th>\n",
       "      <th>geometry</th>\n",
       "      <th>Time</th>\n",
       "      <th>County</th>\n",
       "      <th>Type</th>\n",
       "      <th>Arrests</th>\n",
       "      <th>date</th>\n",
       "    </tr>\n",
       "  </thead>\n",
       "  <tbody>\n",
       "    <tr>\n",
       "      <th>0</th>\n",
       "      <td>1.0</td>\n",
       "      <td>Adams</td>\n",
       "      <td>154502.0</td>\n",
       "      <td>441603.0</td>\n",
       "      <td>3.064413e+09</td>\n",
       "      <td>392729.110497</td>\n",
       "      <td>0.0</td>\n",
       "      <td>0.0</td>\n",
       "      <td>POLYGON ((-103.70574 39.99991, -103.70569 39.9...</td>\n",
       "      <td>2013-01</td>\n",
       "      <td>Adams</td>\n",
       "      <td>DUI</td>\n",
       "      <td>301.0</td>\n",
       "      <td>2013-01-01</td>\n",
       "    </tr>\n",
       "    <tr>\n",
       "      <th>1</th>\n",
       "      <td>1.0</td>\n",
       "      <td>Adams</td>\n",
       "      <td>154502.0</td>\n",
       "      <td>441603.0</td>\n",
       "      <td>3.064413e+09</td>\n",
       "      <td>392729.110497</td>\n",
       "      <td>0.0</td>\n",
       "      <td>0.0</td>\n",
       "      <td>POLYGON ((-103.70574 39.99991, -103.70569 39.9...</td>\n",
       "      <td>2013-01</td>\n",
       "      <td>Adams</td>\n",
       "      <td>Narcotics</td>\n",
       "      <td>232.0</td>\n",
       "      <td>2013-01-01</td>\n",
       "    </tr>\n",
       "    <tr>\n",
       "      <th>2</th>\n",
       "      <td>1.0</td>\n",
       "      <td>Adams</td>\n",
       "      <td>154502.0</td>\n",
       "      <td>441603.0</td>\n",
       "      <td>3.064413e+09</td>\n",
       "      <td>392729.110497</td>\n",
       "      <td>0.0</td>\n",
       "      <td>0.0</td>\n",
       "      <td>POLYGON ((-103.70574 39.99991, -103.70569 39.9...</td>\n",
       "      <td>2013-02</td>\n",
       "      <td>Adams</td>\n",
       "      <td>DUI</td>\n",
       "      <td>369.0</td>\n",
       "      <td>2013-02-01</td>\n",
       "    </tr>\n",
       "    <tr>\n",
       "      <th>3</th>\n",
       "      <td>1.0</td>\n",
       "      <td>Adams</td>\n",
       "      <td>154502.0</td>\n",
       "      <td>441603.0</td>\n",
       "      <td>3.064413e+09</td>\n",
       "      <td>392729.110497</td>\n",
       "      <td>0.0</td>\n",
       "      <td>0.0</td>\n",
       "      <td>POLYGON ((-103.70574 39.99991, -103.70569 39.9...</td>\n",
       "      <td>2013-02</td>\n",
       "      <td>Adams</td>\n",
       "      <td>Narcotics</td>\n",
       "      <td>221.0</td>\n",
       "      <td>2013-02-01</td>\n",
       "    </tr>\n",
       "    <tr>\n",
       "      <th>4</th>\n",
       "      <td>1.0</td>\n",
       "      <td>Adams</td>\n",
       "      <td>154502.0</td>\n",
       "      <td>441603.0</td>\n",
       "      <td>3.064413e+09</td>\n",
       "      <td>392729.110497</td>\n",
       "      <td>0.0</td>\n",
       "      <td>0.0</td>\n",
       "      <td>POLYGON ((-103.70574 39.99991, -103.70569 39.9...</td>\n",
       "      <td>2013-03</td>\n",
       "      <td>Adams</td>\n",
       "      <td>DUI</td>\n",
       "      <td>446.0</td>\n",
       "      <td>2013-03-01</td>\n",
       "    </tr>\n",
       "  </tbody>\n",
       "</table>\n",
       "</div>"
      ],
      "text/plain": [
       "   co_fips county  househo_20  pop_2010    shape_st_1     shape_st_2  \\\n",
       "0      1.0  Adams    154502.0  441603.0  3.064413e+09  392729.110497   \n",
       "1      1.0  Adams    154502.0  441603.0  3.064413e+09  392729.110497   \n",
       "2      1.0  Adams    154502.0  441603.0  3.064413e+09  392729.110497   \n",
       "3      1.0  Adams    154502.0  441603.0  3.064413e+09  392729.110497   \n",
       "4      1.0  Adams    154502.0  441603.0  3.064413e+09  392729.110497   \n",
       "\n",
       "   shape_star  shape_stle                                           geometry  \\\n",
       "0         0.0         0.0  POLYGON ((-103.70574 39.99991, -103.70569 39.9...   \n",
       "1         0.0         0.0  POLYGON ((-103.70574 39.99991, -103.70569 39.9...   \n",
       "2         0.0         0.0  POLYGON ((-103.70574 39.99991, -103.70569 39.9...   \n",
       "3         0.0         0.0  POLYGON ((-103.70574 39.99991, -103.70569 39.9...   \n",
       "4         0.0         0.0  POLYGON ((-103.70574 39.99991, -103.70569 39.9...   \n",
       "\n",
       "      Time County       Type  Arrests       date  \n",
       "0  2013-01  Adams        DUI    301.0 2013-01-01  \n",
       "1  2013-01  Adams  Narcotics    232.0 2013-01-01  \n",
       "2  2013-02  Adams        DUI    369.0 2013-02-01  \n",
       "3  2013-02  Adams  Narcotics    221.0 2013-02-01  \n",
       "4  2013-03  Adams        DUI    446.0 2013-03-01  "
      ]
     },
     "execution_count": 218,
     "metadata": {},
     "output_type": "execute_result"
    }
   ],
   "source": [
    "crime_gdf= pd.merge(left=co_counties_gdf, right=crime_df,  how = 'left', left_on='county', right_on='County')\n",
    "crime_gdf.head()"
   ]
  },
  {
   "cell_type": "code",
   "execution_count": 219,
   "metadata": {},
   "outputs": [
    {
     "data": {
      "text/plain": [
       "(10417, 14)"
      ]
     },
     "execution_count": 219,
     "metadata": {},
     "output_type": "execute_result"
    }
   ],
   "source": [
    "crime_gdf.shape"
   ]
  },
  {
   "cell_type": "markdown",
   "metadata": {},
   "source": [
    "Filter the data to \"DUI\" sales in December 2014. Visualize the \"Arrests\" as a choropleth. Bonus points for using a basemap. Extra bonus points for using a [lognorm](https://matplotlib.org/3.1.0/gallery/userdemo/colormap_normalizations_lognorm.html) or [symlognorm](https://matplotlib.org/3.3.1/gallery/userdemo/colormap_normalizations_symlognorm.html#sphx-glr-gallery-userdemo-colormap-normalizations-symlognorm-py)."
   ]
  },
  {
   "cell_type": "code",
   "execution_count": 224,
   "metadata": {},
   "outputs": [
    {
     "data": {
      "text/plain": [
       "<AxesSubplot:>"
      ]
     },
     "execution_count": 224,
     "metadata": {},
     "output_type": "execute_result"
    },
    {
     "data": {
      "image/png": "[encoded data removed]",
      "text/plain": [
       "<Figure size 432x288 with 2 Axes>"
      ]
     },
     "metadata": {
      "needs_background": "light"
     },
     "output_type": "display_data"
    }
   ],
   "source": [
    "crime_gdf1 = crime_gdf[crime_gdf['Time']=='2014-12']\n",
    "crime_gdf1 = crime_gdf1[crime_gdf1['Type']=='DUI']\n",
    "\n",
    "fig, ax = plt.subplots(1, 1)\n",
    "\n",
    "\n",
    "\n",
    "crime_gdf1.plot(column='Arrests', ax=ax, legend='true', legend_kwds={'label': \"DUI Arrests by County 12-2014\",'orientation': \"horizontal\"})\n"
   ]
  },
  {
   "cell_type": "markdown",
   "metadata": {},
   "source": [
    "Filter the data to \"DUI\" sales in December 2019. Visualize the \"Arrests\" as a choropleth. Bonus points for using a basemap. Extra bonus points for using a [lognorm](https://matplotlib.org/3.1.0/gallery/userdemo/colormap_normalizations_lognorm.html) or [symlognorm](https://matplotlib.org/3.3.1/gallery/userdemo/colormap_normalizations_symlognorm.html#sphx-glr-gallery-userdemo-colormap-normalizations-symlognorm-py)."
   ]
  },
  {
   "cell_type": "code",
   "execution_count": 225,
   "metadata": {},
   "outputs": [
    {
     "data": {
      "text/plain": [
       "<AxesSubplot:>"
      ]
     },
     "execution_count": 225,
     "metadata": {},
     "output_type": "execute_result"
    },
    {
     "data": {
      "image/png": "[encoded data removed]",
      "text/plain": [
       "<Figure size 432x288 with 2 Axes>"
      ]
     },
     "metadata": {
      "needs_background": "light"
     },
     "output_type": "display_data"
    }
   ],
   "source": [
    "crime_gdf2 = crime_gdf[crime_gdf['Time']=='2019-12']\n",
    "crime_gdf2 = crime_gdf2[crime_gdf2['Type']=='DUI']\n",
    "\n",
    "fig, ax = plt.subplots(1, 1)\n",
    "\n",
    "\n",
    "\n",
    "crime_gdf2.plot(column='Arrests', ax=ax, legend='true', legend_kwds={'label': \"DUI Arrests by County 12-2019\",'orientation': \"horizontal\"})\n"
   ]
  },
  {
   "cell_type": "markdown",
   "metadata": {},
   "source": [
    "Interpet some changes you observe between the two maps."
   ]
  },
  {
   "cell_type": "markdown",
   "metadata": {},
   "source": [
    "Arests went down across the board between 2014 and 2019. "
   ]
  },
  {
   "cell_type": "markdown",
   "metadata": {},
   "source": [
    "### Changes in crime for legalizing vs. non-legalizing counties\n",
    "\n",
    "From the December 2019 recreational GeoDataFrame you made, identify the unique counties that had reported recreational cannabis sales. Save this as `rec_counties_l`. Note that this is an inaccurate enumeration of counties with legalized cannabis salies "
   ]
  },
  {
   "cell_type": "code",
   "execution_count": 290,
   "metadata": {},
   "outputs": [
    {
     "data": {
      "text/plain": [
       "(40,)"
      ]
     },
     "execution_count": 290,
     "metadata": {},
     "output_type": "execute_result"
    }
   ],
   "source": [
    "rec_counties_l= sales_gdf2['County'].unique()\n",
    "rec_counties_l.shape"
   ]
  },
  {
   "cell_type": "markdown",
   "metadata": {},
   "source": [
    "From the Colorado counties GeoDataFrame, identify all the unique counties in Colorado. Save this as `all_counties_l`."
   ]
  },
  {
   "cell_type": "code",
   "execution_count": 299,
   "metadata": {},
   "outputs": [
    {
     "data": {
      "text/plain": [
       "array(['Adams', 'Alamosa', 'Arapahoe', 'Archuleta', 'Baca', 'Bent',\n",
       "       'Boulder', 'Broomfield', 'Chaffee', 'Cheyenne', 'Clear Creek',\n",
       "       'Colorado Bureau of Investigation', 'Colorado State Patrol',\n",
       "       'Costilla', 'Crowley', 'Custer', 'Delta', 'Denver', 'Dolores',\n",
       "       'Douglas', 'Eagle', 'El Paso', 'Elbert', 'Fremont', 'Garfield',\n",
       "       'Gilpin', 'Grand', 'Gunnison', 'Hinsdale', 'Huerfano', 'Jackson',\n",
       "       'Jefferson', 'Kiowa', 'Kit Carson', 'La Plata', 'Lake', 'Larimer',\n",
       "       'Las Animas', 'Lincoln', 'Logan', 'Mesa', 'Mineral', 'Moffat',\n",
       "       'Montezuma', 'Montrose', 'Morgan', 'Otero', 'Ouray', 'Park',\n",
       "       'Phillips', 'Pitkin', 'Prowers', 'Pueblo', 'Rio Blanco',\n",
       "       'Rio Grande', 'Routt', 'Saguache', 'San Juan', 'San Miguel',\n",
       "       'Sedgwick', 'Summit', 'Teller', 'Washington', 'Weld', 'Yuma'],\n",
       "      dtype=object)"
      ]
     },
     "execution_count": 299,
     "metadata": {},
     "output_type": "execute_result"
    }
   ],
   "source": [
    "all_counties_l = crime_df['County'].unique()\n",
    "all_counties_l"
   ]
  },
  {
   "cell_type": "markdown",
   "metadata": {},
   "source": [
    "Using the `rec_counties_l` and `co_counties_l`, do a set operation to identify all the counties with no reported recreational cannabis sales. Save this as `nonrec_counties_l`. "
   ]
  },
  {
   "cell_type": "code",
   "execution_count": 306,
   "metadata": {},
   "outputs": [
    {
     "data": {
      "text/plain": [
       "{'Alamosa',\n",
       " 'Baca',\n",
       " 'Broomfield',\n",
       " 'Cheyenne',\n",
       " 'Colorado Bureau of Investigation',\n",
       " 'Colorado State Patrol',\n",
       " 'Custer',\n",
       " 'Delta',\n",
       " 'Dolores',\n",
       " 'Douglas',\n",
       " 'Elbert',\n",
       " 'Fremont',\n",
       " 'Hinsdale',\n",
       " 'Jackson',\n",
       " 'Kiowa',\n",
       " 'Kit Carson',\n",
       " 'Lincoln',\n",
       " 'Logan',\n",
       " 'Mineral',\n",
       " 'Phillips',\n",
       " 'Prowers',\n",
       " 'Rio Blanco',\n",
       " 'Rio Grande',\n",
       " 'Teller',\n",
       " 'Washington',\n",
       " 'Yuma'}"
      ]
     },
     "execution_count": 306,
     "metadata": {},
     "output_type": "execute_result"
    }
   ],
   "source": [
    "nonrec_counties_1 = set(all_counties_l) - set(rec_counties_l)\n",
    "nonrec_counties_1"
   ]
  },
  {
   "cell_type": "markdown",
   "metadata": {},
   "source": [
    "The code below will compute the change in crime for 2019 versus 2013 for each county."
   ]
  },
  {
   "cell_type": "code",
   "execution_count": 301,
   "metadata": {},
   "outputs": [
    {
     "data": {
      "text/plain": [
       "(65, 3)"
      ]
     },
     "execution_count": 301,
     "metadata": {},
     "output_type": "execute_result"
    }
   ],
   "source": [
    "crime_pivot_df = pd.pivot_table(crime_df,index=['Time','County'],columns='Type',values='Arrests')\n",
    "crime_2019 = crime_pivot_df.loc['2019-01-01':'2019-12-01'].sum(level=1)\n",
    "crime_2013 = crime_pivot_df.loc['2013-01-01':'2013-12-01'].sum(level=1)\n",
    "crime_change_df = crime_2019 - crime_2013\n",
    "crime_change_df.reset_index(inplace=True)\n",
    "crime_change_df.columns.name = None\n",
    "crime_change_df.head()\n",
    "crime_change_df.shape"
   ]
  },
  {
   "cell_type": "code",
   "execution_count": 302,
   "metadata": {},
   "outputs": [
    {
     "data": {
      "text/html": [
       "<div>\n",
       "<style scoped>\n",
       "    .dataframe tbody tr th:only-of-type {\n",
       "        vertical-align: middle;\n",
       "    }\n",
       "\n",
       "    .dataframe tbody tr th {\n",
       "        vertical-align: top;\n",
       "    }\n",
       "\n",
       "    .dataframe thead th {\n",
       "        text-align: right;\n",
       "    }\n",
       "</style>\n",
       "<table border=\"1\" class=\"dataframe\">\n",
       "  <thead>\n",
       "    <tr style=\"text-align: right;\">\n",
       "      <th></th>\n",
       "      <th>County</th>\n",
       "      <th>DUI</th>\n",
       "      <th>Narcotics</th>\n",
       "    </tr>\n",
       "  </thead>\n",
       "  <tbody>\n",
       "    <tr>\n",
       "      <th>0</th>\n",
       "      <td>Adams</td>\n",
       "      <td>-1718.0</td>\n",
       "      <td>97.0</td>\n",
       "    </tr>\n",
       "    <tr>\n",
       "      <th>1</th>\n",
       "      <td>Alamosa</td>\n",
       "      <td>36.0</td>\n",
       "      <td>74.0</td>\n",
       "    </tr>\n",
       "    <tr>\n",
       "      <th>2</th>\n",
       "      <td>Arapahoe</td>\n",
       "      <td>-503.0</td>\n",
       "      <td>-167.0</td>\n",
       "    </tr>\n",
       "    <tr>\n",
       "      <th>3</th>\n",
       "      <td>Archuleta</td>\n",
       "      <td>-11.0</td>\n",
       "      <td>8.0</td>\n",
       "    </tr>\n",
       "    <tr>\n",
       "      <th>4</th>\n",
       "      <td>Baca</td>\n",
       "      <td>-16.0</td>\n",
       "      <td>-2.0</td>\n",
       "    </tr>\n",
       "    <tr>\n",
       "      <th>...</th>\n",
       "      <td>...</td>\n",
       "      <td>...</td>\n",
       "      <td>...</td>\n",
       "    </tr>\n",
       "    <tr>\n",
       "      <th>60</th>\n",
       "      <td>Summit</td>\n",
       "      <td>62.0</td>\n",
       "      <td>13.0</td>\n",
       "    </tr>\n",
       "    <tr>\n",
       "      <th>61</th>\n",
       "      <td>Teller</td>\n",
       "      <td>7.0</td>\n",
       "      <td>57.0</td>\n",
       "    </tr>\n",
       "    <tr>\n",
       "      <th>62</th>\n",
       "      <td>Washington</td>\n",
       "      <td>-11.0</td>\n",
       "      <td>1.0</td>\n",
       "    </tr>\n",
       "    <tr>\n",
       "      <th>63</th>\n",
       "      <td>Weld</td>\n",
       "      <td>6.0</td>\n",
       "      <td>258.0</td>\n",
       "    </tr>\n",
       "    <tr>\n",
       "      <th>64</th>\n",
       "      <td>Yuma</td>\n",
       "      <td>-3.0</td>\n",
       "      <td>4.0</td>\n",
       "    </tr>\n",
       "  </tbody>\n",
       "</table>\n",
       "<p>65 rows × 3 columns</p>\n",
       "</div>"
      ],
      "text/plain": [
       "        County     DUI  Narcotics\n",
       "0        Adams -1718.0       97.0\n",
       "1      Alamosa    36.0       74.0\n",
       "2     Arapahoe  -503.0     -167.0\n",
       "3    Archuleta   -11.0        8.0\n",
       "4         Baca   -16.0       -2.0\n",
       "..         ...     ...        ...\n",
       "60      Summit    62.0       13.0\n",
       "61      Teller     7.0       57.0\n",
       "62  Washington   -11.0        1.0\n",
       "63        Weld     6.0      258.0\n",
       "64        Yuma    -3.0        4.0\n",
       "\n",
       "[65 rows x 3 columns]"
      ]
     },
     "execution_count": 302,
     "metadata": {},
     "output_type": "execute_result"
    }
   ],
   "source": [
    "crime_change_df"
   ]
  },
  {
   "cell_type": "code",
   "execution_count": 310,
   "metadata": {},
   "outputs": [
    {
     "data": {
      "text/plain": [
       "(65,)"
      ]
     },
     "execution_count": 310,
     "metadata": {},
     "output_type": "execute_result"
    }
   ],
   "source": [
    "yes = crime_df['County'].unique()\n",
    "yes.shape"
   ]
  },
  {
   "cell_type": "markdown",
   "metadata": {},
   "source": [
    "Make a new column in `crime_change_df` called \"Rec\" that is a Boolean value of whether that county had any reported recreational sales."
   ]
  },
  {
   "cell_type": "code",
   "execution_count": 311,
   "metadata": {},
   "outputs": [
    {
     "data": {
      "text/html": [
       "<div>\n",
       "<style scoped>\n",
       "    .dataframe tbody tr th:only-of-type {\n",
       "        vertical-align: middle;\n",
       "    }\n",
       "\n",
       "    .dataframe tbody tr th {\n",
       "        vertical-align: top;\n",
       "    }\n",
       "\n",
       "    .dataframe thead th {\n",
       "        text-align: right;\n",
       "    }\n",
       "</style>\n",
       "<table border=\"1\" class=\"dataframe\">\n",
       "  <thead>\n",
       "    <tr style=\"text-align: right;\">\n",
       "      <th></th>\n",
       "      <th>County</th>\n",
       "      <th>DUI</th>\n",
       "      <th>Narcotics</th>\n",
       "      <th>Rec</th>\n",
       "    </tr>\n",
       "  </thead>\n",
       "  <tbody>\n",
       "    <tr>\n",
       "      <th>0</th>\n",
       "      <td>Adams</td>\n",
       "      <td>-1718.0</td>\n",
       "      <td>97.0</td>\n",
       "      <td>False</td>\n",
       "    </tr>\n",
       "    <tr>\n",
       "      <th>1</th>\n",
       "      <td>Alamosa</td>\n",
       "      <td>36.0</td>\n",
       "      <td>74.0</td>\n",
       "      <td>False</td>\n",
       "    </tr>\n",
       "    <tr>\n",
       "      <th>2</th>\n",
       "      <td>Arapahoe</td>\n",
       "      <td>-503.0</td>\n",
       "      <td>-167.0</td>\n",
       "      <td>True</td>\n",
       "    </tr>\n",
       "    <tr>\n",
       "      <th>3</th>\n",
       "      <td>Archuleta</td>\n",
       "      <td>-11.0</td>\n",
       "      <td>8.0</td>\n",
       "      <td>True</td>\n",
       "    </tr>\n",
       "    <tr>\n",
       "      <th>4</th>\n",
       "      <td>Baca</td>\n",
       "      <td>-16.0</td>\n",
       "      <td>-2.0</td>\n",
       "      <td>False</td>\n",
       "    </tr>\n",
       "    <tr>\n",
       "      <th>...</th>\n",
       "      <td>...</td>\n",
       "      <td>...</td>\n",
       "      <td>...</td>\n",
       "      <td>...</td>\n",
       "    </tr>\n",
       "    <tr>\n",
       "      <th>60</th>\n",
       "      <td>Summit</td>\n",
       "      <td>62.0</td>\n",
       "      <td>13.0</td>\n",
       "      <td>False</td>\n",
       "    </tr>\n",
       "    <tr>\n",
       "      <th>61</th>\n",
       "      <td>Teller</td>\n",
       "      <td>7.0</td>\n",
       "      <td>57.0</td>\n",
       "      <td>False</td>\n",
       "    </tr>\n",
       "    <tr>\n",
       "      <th>62</th>\n",
       "      <td>Washington</td>\n",
       "      <td>-11.0</td>\n",
       "      <td>1.0</td>\n",
       "      <td>True</td>\n",
       "    </tr>\n",
       "    <tr>\n",
       "      <th>63</th>\n",
       "      <td>Weld</td>\n",
       "      <td>6.0</td>\n",
       "      <td>258.0</td>\n",
       "      <td>True</td>\n",
       "    </tr>\n",
       "    <tr>\n",
       "      <th>64</th>\n",
       "      <td>Yuma</td>\n",
       "      <td>-3.0</td>\n",
       "      <td>4.0</td>\n",
       "      <td>True</td>\n",
       "    </tr>\n",
       "  </tbody>\n",
       "</table>\n",
       "<p>65 rows × 4 columns</p>\n",
       "</div>"
      ],
      "text/plain": [
       "        County     DUI  Narcotics    Rec\n",
       "0        Adams -1718.0       97.0  False\n",
       "1      Alamosa    36.0       74.0  False\n",
       "2     Arapahoe  -503.0     -167.0   True\n",
       "3    Archuleta   -11.0        8.0   True\n",
       "4         Baca   -16.0       -2.0  False\n",
       "..         ...     ...        ...    ...\n",
       "60      Summit    62.0       13.0  False\n",
       "61      Teller     7.0       57.0  False\n",
       "62  Washington   -11.0        1.0   True\n",
       "63        Weld     6.0      258.0   True\n",
       "64        Yuma    -3.0        4.0   True\n",
       "\n",
       "[65 rows x 4 columns]"
      ]
     },
     "execution_count": 311,
     "metadata": {},
     "output_type": "execute_result"
    }
   ],
   "source": [
    "\n",
    "\n",
    "\n",
    "\n",
    "crime_change_df['Rec'] = crime_df['County'].str.contains('Alamosa|Baca|Broomfield|Cheyenne|Colorado Bureau of Investigation|Colorado State Patrol|Custer|Delta|Dolores|Douglas|Elbert|Fremont|Hinsdale|Jackson|Kiowa|Kit Carson|Lincoln|Logan|Mineral|Phillips|Prowers|Rio Blanco|Rio Grande|Teller|Washington|Yuma', regex=True)\n",
    "crime_change_df\n",
    "\n",
    "\n"
   ]
  },
  {
   "cell_type": "markdown",
   "metadata": {},
   "source": [
    "Make a seaborn `barplot` with \"Rec\" on the x-axis and \"DUI\" on the y-axis."
   ]
  },
  {
   "cell_type": "code",
   "execution_count": 313,
   "metadata": {},
   "outputs": [
    {
     "data": {
      "image/png": "[encoded data removed]",
      "text/plain": [
       "<Figure size 432x288 with 1 Axes>"
      ]
     },
     "metadata": {
      "needs_background": "light"
     },
     "output_type": "display_data"
    }
   ],
   "source": [
    "import seaborn as sns\n",
    "\n",
    "ax = sns.barplot(x=\"Rec\", y=\"DUI\", data=crime_change_df)\n",
    "\n"
   ]
  },
  {
   "cell_type": "markdown",
   "metadata": {},
   "source": [
    "Make a seaborn `barplot` with \"Rec\" on the x-axis and \"Narcotics\" on the y-axis."
   ]
  },
  {
   "cell_type": "code",
   "execution_count": 314,
   "metadata": {},
   "outputs": [
    {
     "data": {
      "image/png": "[encoded data removed]",
      "text/plain": [
       "<Figure size 432x288 with 1 Axes>"
      ]
     },
     "metadata": {
      "needs_background": "light"
     },
     "output_type": "display_data"
    }
   ],
   "source": [
    "ax = sns.barplot(x=\"Rec\", y=\"Narcotics\", data=crime_change_df)"
   ]
  },
  {
   "cell_type": "markdown",
   "metadata": {},
   "source": [
    "Here's a statistical test for whether the observed differences are statistically significant."
   ]
  },
  {
   "cell_type": "code",
   "execution_count": 315,
   "metadata": {},
   "outputs": [
    {
     "data": {
      "text/plain": [
       "Ttest_indResult(statistic=-1.726338095357683, pvalue=0.09204893396282283)"
      ]
     },
     "execution_count": 315,
     "metadata": {},
     "output_type": "execute_result"
    }
   ],
   "source": [
    "from scipy import stats\n",
    "\n",
    "rec_dui_changes = crime_change_df.loc[crime_change_df['County'].isin(rec_counties_l),'DUI']\n",
    "nonrec_dui_changes = crime_change_df.loc[crime_change_df['County'].isin(nonrec_counties_l),'DUI']\n",
    "\n",
    "stats.ttest_ind(rec_dui_changes,nonrec_dui_changes,equal_var=False)"
   ]
  },
  {
   "cell_type": "code",
   "execution_count": 316,
   "metadata": {},
   "outputs": [
    {
     "data": {
      "text/plain": [
       "Ttest_indResult(statistic=1.67509460525455, pvalue=0.10111130156419484)"
      ]
     },
     "execution_count": 316,
     "metadata": {},
     "output_type": "execute_result"
    }
   ],
   "source": [
    "rec_narcotics_changes = crime_change_df.loc[crime_change_df['County'].isin(rec_counties_l),'Narcotics']\n",
    "nonrec_narcotics_changes = crime_change_df.loc[crime_change_df['County'].isin(nonrec_counties_l),'Narcotics']\n",
    "\n",
    "stats.ttest_ind(rec_narcotics_changes,nonrec_narcotics_changes,equal_var=False)"
   ]
  },
  {
   "cell_type": "markdown",
   "metadata": {},
   "source": [
    "## Discuss\n",
    "Interpet the observed changes in crime statistics between 2013 and 2019 for legalizing and non-legalizing counties."
   ]
  },
  {
   "cell_type": "markdown",
   "metadata": {},
   "source": [
    "For legalizing counties non-legalizing counties between 2013 and 2019 the p values are high so we cannot reject the null hyphteisis. This means that the sales of recreational and non recreational marijuana have not been proven to change any arrests, whether or DUI or narcotics."
   ]
  },
  {
   "cell_type": "markdown",
   "metadata": {},
   "source": [
    "## Appendix\n",
    "\n",
    "Here's the steps I took to collect and clean up some of the data used for this module. **There's nothing you need to run in here to complete any part of this assignment**, I just share it in the interests of transparency and supporting motivated learners. \n",
    "\n",
    "Libraries only needed for the appendix."
   ]
  },
  {
   "cell_type": "code",
   "execution_count": null,
   "metadata": {},
   "outputs": [],
   "source": [
    "import requests, os, re, time\n",
    "from bs4 import BeautifulSoup\n",
    "from urllib.parse import quote, unquote\n",
    "from datetime import datetime\n",
    "from io import BytesIO"
   ]
  },
  {
   "cell_type": "markdown",
   "metadata": {},
   "source": [
    "### Sales reports\n",
    "The Colorado Department of Revenue's [Manrijuana Sales Reports](https://revenue.colorado.gov/data-and-reports/marijuana-data/marijuana-sales-reports) stores Excel files on a Google Drive.\n",
    "\n",
    "First, get all the links to each month's report by retrieving and parsing the markup from the website."
   ]
  },
  {
   "cell_type": "code",
   "execution_count": null,
   "metadata": {},
   "outputs": [],
   "source": [
    "# Get the raw HTML of the page\n",
    "raw = requests.get('https://revenue.colorado.gov/data-and-reports/marijuana-data/marijuana-sales-reports')\n",
    "\n",
    "# Turn into Soup\n",
    "soup = BeautifulSoup(raw.text)\n",
    "\n",
    "# Find the elements corresponding to the containers with the yearly data\n",
    "containers = soup.find_all('dl',{'class':'ckeditor-accordion'})"
   ]
  },
  {
   "cell_type": "markdown",
   "metadata": {},
   "source": [
    "Second, download all the Excel files. "
   ]
  },
  {
   "cell_type": "raw",
   "metadata": {},
   "source": [
    "excel_files = {}\n",
    "\n",
    "# Each container contains the links to the Excel and PDF files for each month\n",
    "for year in containers:\n",
    "    \n",
    "    # Get only the Excel URLs\n",
    "    _google_sheets_urls = [a['href'] for a in year.find_all('a') if a.text == 'Excel']\n",
    "    \n",
    "    # Loop through these URLs\n",
    "    for url in _google_sheets_urls:\n",
    "        \n",
    "        # Download each file. https://stackoverflow.com/a/56611995/1574687\n",
    "        # First extract the ID for each file\n",
    "        _id = re.findall('\\/file\\/d\\/([\\w-]+)\\/view\\?',url)[0]\n",
    "        \n",
    "        # Then pass it back to this reformatted export URL to download\n",
    "        _excel_df = pd.read_excel('https://drive.google.com/uc?export=download&id=' + _id)\n",
    "        \n",
    "        # Get the date from inside the data\n",
    "        _date = _excel_df.iloc[1,0].replace('Sales from ','')\n",
    "        _formatted_date = str(pd.Period(_date))\n",
    "        \n",
    "        # Save\n",
    "        excel_files[_formatted_date] = _excel_df\n",
    "        \n",
    "        time.sleep(1)"
   ]
  },
  {
   "cell_type": "markdown",
   "metadata": {},
   "source": [
    "Confirm we got them all."
   ]
  },
  {
   "cell_type": "code",
   "execution_count": null,
   "metadata": {},
   "outputs": [],
   "source": [
    "sorted(excel_files.keys())"
   ]
  },
  {
   "cell_type": "markdown",
   "metadata": {},
   "source": [
    "Define a function to parse the files."
   ]
  },
  {
   "cell_type": "code",
   "execution_count": null,
   "metadata": {},
   "outputs": [],
   "source": [
    "def clean_excel(_df):\n",
    "    \n",
    "    # Drop first 5 rows\n",
    "    _df = _df.drop(index=range(5)).reset_index(drop=True)\n",
    "    \n",
    "    # Drop empty column\n",
    "    _df = _df.dropna(how='all',axis=1)\n",
    "    \n",
    "    # Rename columns\n",
    "    _df.columns = ['Med County','Med Sales','Rec County','Rec Sales']\n",
    "    \n",
    "    # Find row for last medical and recreational sales\n",
    "    last_med = _df[_df['Med County'].str.contains('Sum of NR Counties').fillna(False)].first_valid_index() - 1\n",
    "    last_rec = _df[_df['Rec County'].str.contains('Sum of NR Counties').fillna(False)].first_valid_index() - 1\n",
    "\n",
    "    # Slice to only those values\n",
    "    med_sales = _df.loc[:last_med,['Med County','Med Sales']]\n",
    "    rec_sales = _df.loc[:last_rec,['Rec County','Rec Sales']]\n",
    "    \n",
    "    # Rename columns\n",
    "    med_sales.columns = ['County','Sales']\n",
    "    rec_sales.columns = ['County','Sales']\n",
    "\n",
    "    # Add type\n",
    "    med_sales['Type'] = 'Medical'\n",
    "    rec_sales['Type'] = 'Recreational'\n",
    "    \n",
    "    # Concatenate\n",
    "    combined_df = pd.concat([med_sales,rec_sales],ignore_index=True)\n",
    "    combined_df = combined_df.replace({'Sales':{'NR':np.nan}})\n",
    "\n",
    "    return combined_df"
   ]
  },
  {
   "cell_type": "markdown",
   "metadata": {},
   "source": [
    "Loop through files, parse out relevant data, and concatenate results together."
   ]
  },
  {
   "cell_type": "code",
   "execution_count": null,
   "metadata": {},
   "outputs": [],
   "source": [
    "cleaned_dict = {}\n",
    "\n",
    "# Apply the function to each month's spreadsheet\n",
    "for _month, _df in excel_files.items():\n",
    "    try:\n",
    "        cleaned_dict[_month] = clean_excel(_df)\n",
    "    except:\n",
    "        print(_month)\n",
    "        pass\n",
    "\n",
    "# Combine all the months of data together\n",
    "combined_df = pd.concat(cleaned_dict.values(),keys=cleaned_dict.keys())\n",
    "\n",
    "# Cleanup\n",
    "combined_df = combined_df.reset_index(0).reset_index(drop=True)\n",
    "combined_df = combined_df.rename(columns={'level_0':'Time'})\n",
    "\n",
    "combined_df = combined_df.sort_values(['Time','County','Type'])\n",
    "\n",
    "# Write to disk\n",
    "combined_df.to_csv('colorado_monthly_cannabis_sales.csv',index=False)\n",
    "\n",
    "print(combined_df.shape)\n",
    "combined_df.tail()"
   ]
  },
  {
   "cell_type": "markdown",
   "metadata": {},
   "source": [
    "Old method using files I manually downloaded."
   ]
  },
  {
   "cell_type": "code",
   "execution_count": null,
   "metadata": {},
   "outputs": [],
   "source": [
    "_dir = 'E:/Dropbox/Courses/2020 Fall - INFO 3401/Code and data/cannabis_sales/'\n",
    "files = [f for f in os.listdir(_dir) if '.xlsx' in f]\n",
    "\n",
    "data_dict = {}\n",
    "# filename_prefixes = [i.strftime('%m%y') for i in pd.period_range('2014-01','2020-10',freq='1M')]\n",
    "\n",
    "_dir = 'E:/Dropbox/Courses/2020 Fall - INFO 3401/Code and data/cannabis_sales/'\n",
    "files = [f for f in os.listdir(_dir) if '.xlsx' in f]\n",
    "\n",
    "for month,df in files:\n",
    "    try:\n",
    "        period = pd.Period(datetime.strptime(f.split('_')[0],'%m%y'),freq='1M')\n",
    "        data_dict[period] = pd.read_excel(_dir+f) #,skiprows=5)\n",
    "    except:\n",
    "        print(f)\n",
    "        pass\n",
    "\n",
    "print(len(data_dict))"
   ]
  },
  {
   "cell_type": "markdown",
   "metadata": {},
   "source": [
    "### Crime\n",
    "\n",
    "https://coloradocrimestats.state.co.us/public/View/"
   ]
  },
  {
   "cell_type": "code",
   "execution_count": null,
   "metadata": {},
   "outputs": [],
   "source": [
    "co_dui_1719 = pd.read_csv('DUI Arrests 2017-2019.csv',skiprows=3).dropna(how='all',axis=1)\n",
    "co_dui_1316 = pd.read_csv('DUI Arrests 2013-2016.csv',skiprows=3).dropna(how='all',axis=1)\n",
    "\n",
    "co_dui_df = pd.concat([co_dui_1316,co_dui_1719],ignore_index=True)\n",
    "co_dui_df['Incident Date'] = pd.to_datetime(co_dui_df['Incident Date'])\n",
    "co_dui_df = co_dui_df.drop(columns=['Arrest Offense for A and B Arrests'])\n",
    "\n",
    "co_dui_df = pd.pivot_table(data = co_dui_df,\n",
    "                           columns = 'Jurisdiction by Geography',\n",
    "                           index = 'Incident Date',\n",
    "                           values = 'Number of Arrestees'\n",
    "                          )\n",
    "\n",
    "co_dui_df = co_dui_df.fillna(0)\n",
    "\n",
    "co_dui_df = co_dui_df.groupby(pd.Grouper(freq='1M')).sum().stack().reset_index()\n",
    "co_dui_df.columns = ['Time','County','Arrests']\n",
    "co_dui_df['Time'] = co_dui_df['Time'].dt.to_period(freq='1M')\n",
    "\n",
    "_rename = {c:c.replace(' County','') for c in co_dui_df['County'].unique().tolist() if 'County' in c}\n",
    "co_dui_df = co_dui_df.replace({'County':_rename})\n",
    "\n",
    "# co_dui_df.to_csv('co_county_dui.csv')\n",
    "\n",
    "# co_dui_df.head()"
   ]
  },
  {
   "cell_type": "code",
   "execution_count": null,
   "metadata": {},
   "outputs": [],
   "source": [
    "co_narcotics_1719 = pd.read_csv('Narcotics Arrests 2017-2019.csv',skiprows=3).dropna(how='all',axis=1)\n",
    "co_narcotics_1316 = pd.read_csv('Narcotics Arrests 2013-2016.csv',skiprows=3).dropna(how='all',axis=1)\n",
    "\n",
    "co_narcotics_df = pd.concat([co_narcotics_1316,co_narcotics_1719],ignore_index=True)\n",
    "co_narcotics_df['Incident Date'] = pd.to_datetime(co_narcotics_df['Incident Date'])\n",
    "co_narcotics_df = co_narcotics_df.drop(columns=['Arrest Offense for A and B Arrests'])\n",
    "\n",
    "co_narcotics_df = pd.pivot_table(data = co_narcotics_df,\n",
    "                           columns = 'Jurisdiction by Geography',\n",
    "                           index = 'Incident Date',\n",
    "                           values = 'Number of Arrestees'\n",
    "                          )\n",
    "\n",
    "co_narcotics_df = co_narcotics_df.fillna(0)\n",
    "\n",
    "co_narcotics_df = co_narcotics_df.groupby(pd.Grouper(freq='1M')).sum().stack().reset_index()\n",
    "co_narcotics_df.columns = ['Time','County','Arrests']\n",
    "co_narcotics_df['Time'] = co_narcotics_df['Time'].dt.to_period(freq='1M')\n",
    "\n",
    "_rename = {c:c.replace(' County','') for c in co_narcotics_df['County'].unique().tolist() if 'County' in c}\n",
    "co_narcotics_df = co_narcotics_df.replace({'County':_rename})\n",
    "\n",
    "# co_narcotics_df.to_csv('co_county_narcotics.csv')\n",
    "\n",
    "# co_narcotics_df.head()"
   ]
  },
  {
   "cell_type": "code",
   "execution_count": null,
   "metadata": {},
   "outputs": [],
   "source": [
    "co_county_crime_df = pd.concat([co_dui_df,co_narcotics_df],\n",
    "                               keys=['DUI','Narcotics'],\n",
    "                               names=['Type']\n",
    "                              ).reset_index(0)\n",
    "co_county_crime_df = co_county_crime_df[['Time','County','Type','Arrests']]\n",
    "\n",
    "co_county_crime_df = co_county_crime_df.sort_values(['Time','County','Type']).reset_index(drop=True)\n",
    "\n",
    "co_county_crime_df.to_csv('co_county_crime.csv',index=False)\n",
    "\n",
    "co_county_crime_df.head()"
   ]
  },
  {
   "cell_type": "code",
   "execution_count": null,
   "metadata": {},
   "outputs": [],
   "source": [
    "co_county_crime_df = pd.merge(left = co_dui_df,\n",
    "                              right = co_narcotics_df,\n",
    "                              how = 'outer',\n",
    "                              left_on = ['Time','County'],\n",
    "                              right_on = ['Time','County']\n",
    "                             )\n",
    "\n",
    "co_county_crime_df.to_csv('co_county_crime.csv',index=False)\n",
    "\n",
    "co_county_crime_df.head()"
   ]
  }
 ],
 "metadata": {
  "kernelspec": {
   "display_name": "Python 3 (ipykernel)",
   "language": "python",
   "name": "python3"
  },
  "language_info": {
   "codemirror_mode": {
    "name": "ipython",
    "version": 3
   },
   "file_extension": ".py",
   "mimetype": "text/x-python",
   "name": "python",
   "nbconvert_exporter": "python",
   "pygments_lexer": "ipython3",
   "version": "3.8.5"
  }
 },
 "nbformat": 4,
 "nbformat_minor": 4
}
